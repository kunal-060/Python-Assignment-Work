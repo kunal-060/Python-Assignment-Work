{
 "cells": [
  {
   "cell_type": "markdown",
   "id": "fc6b5f7e-5f69-4dbf-95ee-84c67e405c48",
   "metadata": {},
   "source": [
    "1) Area of a Rectangle: \n",
    "Write a Python program to calculate the area of a rectangle. Use the formula: \n",
    "A𝒓𝒆𝒂 = 𝒍𝒆𝒏𝒈𝒕𝒉 × 𝒘𝒊𝒅𝒕𝒉 \n",
    "Take length and width as inputs from the user."
   ]
  },
  {
   "cell_type": "code",
   "execution_count": 7,
   "id": "94f70ff5-eb1d-44bc-ab44-0775cc6d736f",
   "metadata": {},
   "outputs": [
    {
     "name": "stdin",
     "output_type": "stream",
     "text": [
      "Enter a length of rectangle 15\n",
      "Enter a width of rectangle 25\n"
     ]
    },
    {
     "name": "stdout",
     "output_type": "stream",
     "text": [
      "The Area of rectangle is 375\n"
     ]
    }
   ],
   "source": [
    "length = int(input(\"Enter a length of rectangle\"))\n",
    "width = int(input(\"Enter a width of rectangle\"))\n",
    "Area = length * width\n",
    "print(f\"The Area of rectangle is {Area}\")"
   ]
  },
  {
   "cell_type": "markdown",
   "id": "7c1dbef8-0b88-49fb-be79-e0634c0f0c8c",
   "metadata": {},
   "source": [
    "2) Circumference of a Circle: \n",
    "Write a Python program to calculate the circumference of a circle. Use the formula: \n",
    "c𝒊𝒓𝒄𝒖𝒎𝒇𝒆𝒓𝒆𝒏𝒄𝒆 = 𝟐𝝅𝒓 \n",
    "Take the radius r as input from the user. "
   ]
  },
  {
   "cell_type": "code",
   "execution_count": 9,
   "id": "541d4d6c-aee1-4b1c-aecf-333e63f960d6",
   "metadata": {},
   "outputs": [
    {
     "name": "stdin",
     "output_type": "stream",
     "text": [
      "Enter the radius of circle 2\n"
     ]
    },
    {
     "name": "stdout",
     "output_type": "stream",
     "text": [
      "The circumference of a circle is 12.566370614359172\n"
     ]
    }
   ],
   "source": [
    "import math\n",
    "radius = float(input(\"Enter the radius of circle\"))\n",
    "Circumference = 2 * math.pi * radius\n",
    "print(f\"The circumference of a circle is {Circumference}\")"
   ]
  },
  {
   "cell_type": "markdown",
   "id": "cbe5595b-c448-4072-9ad8-53d612a2addd",
   "metadata": {},
   "source": [
    "3) Simple Interest: \n",
    "Write a Python program to calculate the simple interest. Use the formula: \n",
    "S𝒊𝒎𝒑𝒍𝒆 𝑰𝒏𝒕𝒆𝒓𝒆𝒔𝒕 = 𝑷𝒓𝒊𝒏𝒄𝒊𝒑𝒂𝒍 × 𝑹𝒂𝒕𝒆 × 𝑻𝒊𝒎𝒆  \n",
    "Take Principal, Rate, and Time as inputs from the user."
   ]
  },
  {
   "cell_type": "code",
   "execution_count": 11,
   "id": "b7a02653-198f-4434-90d0-81e3c5636e67",
   "metadata": {},
   "outputs": [
    {
     "name": "stdin",
     "output_type": "stream",
     "text": [
      "enter principal amount: 50000\n",
      "Enter interest rate per year(in decimal): 0.5\n",
      "Enter time in years 8\n"
     ]
    },
    {
     "name": "stdout",
     "output_type": "stream",
     "text": [
      "The simple interest is 200000.0\n"
     ]
    }
   ],
   "source": [
    "principal = float(input(\"enter principal amount:\"))\n",
    "rate = float(input(\"Enter interest rate per year(in decimal):\"))\n",
    "time =float(input(\"Enter time in years\"))\n",
    "Simple_interest = principal * rate * time \n",
    "print(f\"The simple interest is {Simple_interest}\")"
   ]
  },
  {
   "cell_type": "markdown",
   "id": "0ff5281b-0148-4882-b678-64a8d8ab2f9f",
   "metadata": {},
   "source": [
    "4) Speed of an Object: \n",
    "Write a Python program to calculate the speed of an object. Use the formula:  \n",
    "S𝒑𝒆𝒆𝒅     =      𝑫𝒊𝒔𝒕𝒂𝒏𝒄𝒆 /  𝑻𝒊𝒎𝒆  \n",
    "Take Distance and Time as inputs from the user."
   ]
  },
  {
   "cell_type": "code",
   "execution_count": 13,
   "id": "2ea3de46-cf81-4f1f-803a-88bd5ae8b8a9",
   "metadata": {},
   "outputs": [
    {
     "name": "stdin",
     "output_type": "stream",
     "text": [
      "Enter the distance (in meters):  5\n",
      "Enter the time (in seconds):  120\n"
     ]
    },
    {
     "name": "stdout",
     "output_type": "stream",
     "text": [
      "Speed of the object is 0.041666666666666664\n"
     ]
    }
   ],
   "source": [
    "distance = float(input(\"Enter the distance (in meters): \"))\n",
    "time = float(input(\"Enter the time (in seconds): \"))\n",
    "speed = distance / time\n",
    "print(f\"Speed of the object is {speed}\")"
   ]
  },
  {
   "cell_type": "markdown",
   "id": "db09d1c0-5d7a-40cf-92cd-062caea9a6e6",
   "metadata": {},
   "source": [
    "5) BMI Calculator: \n",
    "Write a Python program to calculate the Body Mass Index (BMI). Use the formula:  \n",
    "BMI = Weight(Kg) / Height**2\n",
    "Take Weight (in kilograms) and Height (in meters) as inputs from the user. "
   ]
  },
  {
   "cell_type": "code",
   "execution_count": 15,
   "id": "0c0692b3-2f78-4752-aa68-53b950c36f92",
   "metadata": {},
   "outputs": [
    {
     "name": "stdin",
     "output_type": "stream",
     "text": [
      "Enter your weight in kilograms:  45\n",
      "Enter your height in meters:  3\n"
     ]
    },
    {
     "name": "stdout",
     "output_type": "stream",
     "text": [
      "Your BMI is 5.0\n"
     ]
    }
   ],
   "source": [
    "weight = float(input(\"Enter your weight in kilograms: \"))\n",
    "height = float(input(\"Enter your height in meters: \"))\n",
    "BMI = weight / (height ** 2)\n",
    "print(f\"Your BMI is {BMI}\")"
   ]
  },
  {
   "cell_type": "markdown",
   "id": "f2f1ff79-2fe1-48ec-afa0-931ce0b2a534",
   "metadata": {},
   "source": [
    "6) Force Using Newton's Second Law: \n",
    "Write a Python program to calculate the force on an object. Use the formula: \n",
    " F = ma\n",
    "Take m (mass in kilograms) and a (acceleration in meters/second²) as inputs from the \n",
    "user."
   ]
  },
  {
   "cell_type": "code",
   "execution_count": 17,
   "id": "6d7066ee-ac64-4dfc-b907-0e13cb9d6f9c",
   "metadata": {},
   "outputs": [
    {
     "name": "stdin",
     "output_type": "stream",
     "text": [
      "Enter the mass (in kg):  5\n",
      "Enter the acceleration (in m/s²):  20\n"
     ]
    },
    {
     "name": "stdout",
     "output_type": "stream",
     "text": [
      "Force on the object: 100.0\n"
     ]
    }
   ],
   "source": [
    "mass = float(input(\"Enter the mass (in kg): \"))\n",
    "acceleration = float(input(\"Enter the acceleration (in m/s²): \"))\n",
    "force = mass * acceleration\n",
    "print(f\"Force on the object: {force}\")"
   ]
  },
  {
   "cell_type": "markdown",
   "id": "05580357-1cd2-49ce-949f-8274774698dc",
   "metadata": {},
   "source": [
    "7) Compound Interest: \n",
    "Write a Python program to calculate compound interest. Use the formula:  \n",
    "A = P * ((1 + r / n) ** (n * t))\n",
    "Where: \n",
    "A= total amount \n",
    "P = principal amount \n",
    "r = annual interest rate (decimal) \n",
    "n = number of times interest is compounded per year \n",
    "t = time in years \n",
    "Take P, r, n, and t as inputs from the user."
   ]
  },
  {
   "cell_type": "code",
   "execution_count": 19,
   "id": "94b93e76-a8f4-402e-98db-4d49c628b9f6",
   "metadata": {},
   "outputs": [
    {
     "name": "stdin",
     "output_type": "stream",
     "text": [
      "Enter the principal amount:  50000\n",
      "Enter the annual interest rate (as decimal):  0.5\n",
      "Enter the number of times interest is compounded per year:  2\n",
      "Enter the time in years:  5\n"
     ]
    },
    {
     "name": "stdout",
     "output_type": "stream",
     "text": [
      "Compound interest: 415661.28730773926\n"
     ]
    }
   ],
   "source": [
    "P = float(input(\"Enter the principal amount: \"))\n",
    "r = float(input(\"Enter the annual interest rate (as decimal): \"))\n",
    "n = int(input(\"Enter the number of times interest is compounded per year: \"))\n",
    "t = float(input(\"Enter the time in years: \"))\n",
    "A = P * ((1 + r / n) ** (n * t))\n",
    "compound_interest = A - P\n",
    "print(f\"Compound interest: {compound_interest}\")"
   ]
  },
  {
   "cell_type": "markdown",
   "id": "41f66992-a2d1-406d-bd2a-087cb07b35fe",
   "metadata": {},
   "source": [
    "8) Perimeter of a Triangle: \n",
    "Write a Python program to calculate the perimeter of a triangle. Use the formula:  \n",
    "P𝒆𝒓𝒊𝒎𝒆𝒕𝒆𝒓 = 𝒂+𝒃+𝒄 \n",
    "Take a, b, and c (lengths of the three sides) as inputs from the user. "
   ]
  },
  {
   "cell_type": "code",
   "execution_count": 21,
   "id": "8cb189f8-6f68-4f54-9a13-db4e2c47cd2a",
   "metadata": {},
   "outputs": [
    {
     "name": "stdin",
     "output_type": "stream",
     "text": [
      "Enter the length of side a:  2\n",
      "Enter the length of side b:  5\n",
      "Enter the length of side c:  5\n"
     ]
    },
    {
     "name": "stdout",
     "output_type": "stream",
     "text": [
      "Perimeter of the triangle: 12.0\n"
     ]
    }
   ],
   "source": [
    "a = float(input(\"Enter the length of side a: \"))\n",
    "b = float(input(\"Enter the length of side b: \"))\n",
    "c = float(input(\"Enter the length of side c: \"))\n",
    "perimeter = a + b + c\n",
    "print(f\"Perimeter of the triangle: {perimeter}\")\n"
   ]
  },
  {
   "cell_type": "markdown",
   "id": "5b78b13b-1565-434d-a48a-a9b32da55616",
   "metadata": {},
   "source": [
    "9) Volume of a Sphere: \n",
    "Write a Python program to calculate the volume of a sphere. Use the formula: \n",
    " Volume = 4\\3 𝝅r**3\n",
    "Take r (radius) as input from the user."
   ]
  },
  {
   "cell_type": "code",
   "execution_count": 23,
   "id": "e349559c-509f-4c94-be6b-637690f954e5",
   "metadata": {},
   "outputs": [
    {
     "name": "stdin",
     "output_type": "stream",
     "text": [
      "Enter the radius of the sphere:  2\n"
     ]
    },
    {
     "name": "stdout",
     "output_type": "stream",
     "text": [
      "Volume of the sphere:33.510321638291124\n"
     ]
    }
   ],
   "source": [
    "import math\n",
    "radius = float(input(\"Enter the radius of the sphere: \"))\n",
    "volume = (4/3) * math.pi * (radius ** 3)\n",
    "print(f\"Volume of the sphere:{volume}\")\n"
   ]
  },
  {
   "cell_type": "markdown",
   "id": "a025556f-3917-4d36-a052-94c14b11f559",
   "metadata": {},
   "source": [
    "10) Kinetic Energy: \n",
    "Write a Python program to calculate the kinetic energy of an object. Use the formula: \n",
    "K𝑬=𝟏/2 𝒎 𝑽**2 \n",
    "Take m (mass in kilograms) and v (velocity in meters/second) as inputs from the user."
   ]
  },
  {
   "cell_type": "code",
   "execution_count": 25,
   "id": "990cc915-e6c8-4ca6-991c-79ecfc23aeda",
   "metadata": {},
   "outputs": [
    {
     "name": "stdin",
     "output_type": "stream",
     "text": [
      "Enter the mass (in kg):  25\n",
      "Enter the velocity (in m/s):  23\n"
     ]
    },
    {
     "name": "stdout",
     "output_type": "stream",
     "text": [
      "Kinetic energy of the object: 6612.5\n"
     ]
    }
   ],
   "source": [
    "mass = float(input(\"Enter the mass (in kg): \"))\n",
    "velocity = float(input(\"Enter the velocity (in m/s): \"))\n",
    "kinetic_energy = 0.5 * mass * (velocity ** 2)\n",
    "print(f\"Kinetic energy of the object: {kinetic_energy}\")\n"
   ]
  },
  {
   "cell_type": "markdown",
   "id": "cd138d25-813f-4789-b65d-94a538649d2a",
   "metadata": {},
   "source": [
    "11) Quadratic Equation Roots: \n",
    "Write a Python program to find the roots of a quadratic equation. Use the formula: \n",
    "X =  (-b±√(b**2)-4ac) / 2a\n",
    " Take a, b, and c as inputs from the user. "
   ]
  },
  {
   "cell_type": "code",
   "execution_count": 27,
   "id": "e069689f-edd2-4bfc-b91d-81a6c396552f",
   "metadata": {},
   "outputs": [
    {
     "name": "stdin",
     "output_type": "stream",
     "text": [
      "Enter coefficient a:  25\n",
      "Enter coefficient b:  5\n",
      "Enter coefficient c:  5\n"
     ]
    },
    {
     "name": "stdout",
     "output_type": "stream",
     "text": [
      "Roots of the quadratic equation are: (-0.1+0.4358898943540674j),(-0.1-0.4358898943540674j)\n"
     ]
    }
   ],
   "source": [
    "import cmath\n",
    "\n",
    "a = float(input(\"Enter coefficient a: \"))\n",
    "b = float(input(\"Enter coefficient b: \"))\n",
    "c = float(input(\"Enter coefficient c: \"))\n",
    "d = (b ** 2) - (4 * a * c)\n",
    "root1 = (-b + cmath.sqrt(d)) / (2 * a)\n",
    "root2 = (-b - cmath.sqrt(d)) / (2 * a)\n",
    "print(f\"Roots of the quadratic equation are: {root1},{root2}\")\n"
   ]
  },
  {
   "cell_type": "markdown",
   "id": "e2bf36f8-fbf7-4ece-baee-37903bbf88a6",
   "metadata": {},
   "source": [
    "12) Temperature Conversion: \n",
    "Write a Python program to convert a temperature from Celsius to Fahrenheit. Use the \n",
    "formula:  \n",
    "F = 9/5 c+32\n",
    "Take C (temperature in Celsius) as input from the user. "
   ]
  },
  {
   "cell_type": "code",
   "execution_count": 29,
   "id": "60d35cee-9090-4983-ba5a-9a1040fd2d20",
   "metadata": {},
   "outputs": [
    {
     "name": "stdin",
     "output_type": "stream",
     "text": [
      "Enter temperature in Celsius:  35\n"
     ]
    },
    {
     "name": "stdout",
     "output_type": "stream",
     "text": [
      "Temperature in Fahrenheit: 95.0\n"
     ]
    }
   ],
   "source": [
    "celsius = float(input(\"Enter temperature in Celsius: \"))\n",
    "fahrenheit = (celsius * 9/5) + 32\n",
    "print(f\"Temperature in Fahrenheit: {fahrenheit}\")\n"
   ]
  },
  {
   "cell_type": "markdown",
   "id": "17edadd0-ddcc-4e84-9872-7df126ec01e6",
   "metadata": {},
   "source": [
    "13) Gravitational Force: \n",
    "Write a Python program to calculate the gravitational force between two objects. Use \n",
    "the formula \n",
    "F =𝑮𝒎𝟏∗ 𝒎𝟐 / 𝒓**2\n",
    "m1, m2 are the masses of the objects \n",
    "r = distance between the centers of the objects \n",
    "Take m1, m2 and r as inputs from the user."
   ]
  },
  {
   "cell_type": "code",
   "execution_count": 31,
   "id": "a1cb1401-9bb9-4ac2-a012-14be75a34ac5",
   "metadata": {},
   "outputs": [
    {
     "name": "stdin",
     "output_type": "stream",
     "text": [
      "Enter mass of first object (m1) in kg:  25\n",
      "Enter mass of second object (m2) in kg:  52\n",
      "Enter distance between the centers of the objects (r) in meters:  5\n"
     ]
    },
    {
     "name": "stdout",
     "output_type": "stream",
     "text": [
      "Gravitational force between the objects: 3.470636e-09\n"
     ]
    }
   ],
   "source": [
    "G = 6.67430e-11  # Gravitational constant\n",
    "m1 = float(input(\"Enter mass of first object (m1) in kg: \"))\n",
    "m2 = float(input(\"Enter mass of second object (m2) in kg: \"))\n",
    "r = float(input(\"Enter distance between the centers of the objects (r) in meters: \"))\n",
    "gravitational_force = G * (m1 * m2) / (r ** 2)\n",
    "print(f\"Gravitational force between the objects: {gravitational_force}\")"
   ]
  },
  {
   "cell_type": "markdown",
   "id": "e07c26ae-b085-49ad-8840-efc5c2544ba8",
   "metadata": {},
   "source": [
    " 14) Volume of a Cylinder: \n",
    "Write a Python program to calculate the volume of a cylinder. Use the formula:  \n",
    "V𝒐𝒍𝒖𝒎𝒆 = 𝝅𝒓**2𝒉 \n",
    "Take radius(r) and height(h) as inputs from the user"
   ]
  },
  {
   "cell_type": "code",
   "execution_count": 33,
   "id": "364eedb0-8ae3-4f9b-a7bd-1c6cd8eada3a",
   "metadata": {},
   "outputs": [
    {
     "name": "stdin",
     "output_type": "stream",
     "text": [
      "Enter the height of the cylinder:  3\n",
      "Enter the radius of the cylinder:  5\n"
     ]
    },
    {
     "name": "stdout",
     "output_type": "stream",
     "text": [
      "Volume of the cylinder: 235.61944901923448\n"
     ]
    }
   ],
   "source": [
    "height = float(input(\"Enter the height of the cylinder: \"))\n",
    "radius = float(input(\"Enter the radius of the cylinder: \"))\n",
    "volume = math.pi * (radius ** 2) * height\n",
    "print(f\"Volume of the cylinder: {volume}\")\n"
   ]
  },
  {
   "cell_type": "markdown",
   "id": "d4953953-d409-4fbb-ac97-a8195bfcb065",
   "metadata": {},
   "source": [
    "15) Pressure: \n",
    "Write a Python program to calculate the pressure exerted by a force on a surface. Use the formula: \n",
    "P = 𝑭 / 𝑨\n",
    "P = pressure \n",
    "F = force \n",
    "A = area \n",
    "Take F(force) and A(area) as inputs from the user."
   ]
  },
  {
   "cell_type": "code",
   "execution_count": 35,
   "id": "4f1ea9d4-3a08-463c-888c-9b2cc0e36848",
   "metadata": {},
   "outputs": [
    {
     "name": "stdin",
     "output_type": "stream",
     "text": [
      "Enter the force applied (N):  25\n",
      "Enter the area (m²):  5\n"
     ]
    },
    {
     "name": "stdout",
     "output_type": "stream",
     "text": [
      "The pressure exerted is: 5.0 Pascals\n"
     ]
    }
   ],
   "source": [
    "F = float(input(\"Enter the force applied (N): \"))\n",
    "A = float(input(\"Enter the area (m²): \"))\n",
    "pressure = F / A\n",
    "print(f\"The pressure exerted is: {pressure} Pascals\")"
   ]
  },
  {
   "cell_type": "markdown",
   "id": "9a6ce2e6-0181-48e1-8a98-36dbff564e75",
   "metadata": {},
   "source": [
    "16) Electric Power: \n",
    "Write a Python program to calculate the electric power consumed. Use the formula:\n",
    "Power = V * I\n",
    "where: \n",
    "P = power \n",
    "V = voltage \n",
    "I = current \n",
    "Take V(voltage) and I(current) as inputs from the user. "
   ]
  },
  {
   "cell_type": "code",
   "execution_count": 37,
   "id": "acc32933-f9f3-42de-8f72-c79bf0281d40",
   "metadata": {},
   "outputs": [
    {
     "name": "stdin",
     "output_type": "stream",
     "text": [
      "Enter the voltage (V):  23\n",
      "Enter the current (I):  3\n"
     ]
    },
    {
     "name": "stdout",
     "output_type": "stream",
     "text": [
      "The electric power consumed is: 69.0 Watts\n"
     ]
    }
   ],
   "source": [
    "V = float(input(\"Enter the voltage (V): \"))\n",
    "I = float(input(\"Enter the current (I): \"))\n",
    "power = V * I\n",
    "print(f\"The electric power consumed is: {power} Watts\")"
   ]
  },
  {
   "cell_type": "markdown",
   "id": "82b74729-589a-429a-a683-7c4185db629e",
   "metadata": {},
   "source": [
    "17) Perimeter of a Circle (Circumference): \n",
    "Write a Python program to calculate the perimeter (circumference) of a circle. Use the formula: \n",
    "P = 2𝝅𝒓\n",
    "Take r (radius) as input from the user."
   ]
  },
  {
   "cell_type": "code",
   "execution_count": 39,
   "id": "5c065bc0-0631-470c-bd37-6f6e6ae48d90",
   "metadata": {},
   "outputs": [
    {
     "name": "stdin",
     "output_type": "stream",
     "text": [
      "Enter the radius of the circle:  2\n"
     ]
    },
    {
     "name": "stdout",
     "output_type": "stream",
     "text": [
      "The perimeter (circumference) of the circle is: 12.566370614359172\n"
     ]
    }
   ],
   "source": [
    "import math\n",
    "r = float(input(\"Enter the radius of the circle: \"))\n",
    "circumference = 2 * math.pi * r\n",
    "print(f\"The perimeter (circumference) of the circle is: {circumference}\")\n"
   ]
  },
  {
   "cell_type": "markdown",
   "id": "ead3dde6-5ef9-472d-a57f-782b837058e6",
   "metadata": {},
   "source": [
    "18) Write a Python program to calculate the future value of an investment. Use the formula:  \n",
    "F𝑉 =𝑃𝑉(1+𝑟)**t \n",
    "where: \n",
    "FV= future value \n",
    "PV= present value \n",
    "r= annual interest rate (as a decimal) \n",
    "t= time in years \n",
    "Take PV, r, and t as inputs from the user."
   ]
  },
  {
   "cell_type": "code",
   "execution_count": 41,
   "id": "27c5922e-7cf2-4992-b6a5-fae1fc7742b4",
   "metadata": {},
   "outputs": [
    {
     "name": "stdin",
     "output_type": "stream",
     "text": [
      "Enter the present value:  50000\n",
      "Enter the annual interest rate (as a decimal):  5\n",
      "Enter the time in years:  5\n"
     ]
    },
    {
     "name": "stdout",
     "output_type": "stream",
     "text": [
      "The future value of the investment is: 388800000.0\n"
     ]
    }
   ],
   "source": [
    "PV = float(input(\"Enter the present value: \"))\n",
    "r = float(input(\"Enter the annual interest rate (as a decimal): \"))\n",
    "t = float(input(\"Enter the time in years: \"))\n",
    "FV = PV * (1 + r) ** t\n",
    "print(f\"The future value of the investment is: {FV}\")"
   ]
  },
  {
   "cell_type": "markdown",
   "id": "811aed34-f9f5-40dc-9717-e75a52794fe8",
   "metadata": {},
   "source": [
    "19) Work Done by a Force: \n",
    "Write a Python program to calculate the work done by a force. Use the formula:  \n",
    " W = f.d Cosθ\n",
    "where: \n",
    "W = work done \n",
    "f= force \n",
    "d = distance \n",
    "theta = angle between force and direction of movement (in degrees) \n",
    "Take f, d, and θ as inputs from the user"
   ]
  },
  {
   "cell_type": "code",
   "execution_count": 43,
   "id": "559ffca4-bff3-4d54-a72b-93312b9dd9c4",
   "metadata": {},
   "outputs": [
    {
     "name": "stdin",
     "output_type": "stream",
     "text": [
      "Enter the force (N):  25\n",
      "Enter the distance (m):  3\n",
      "Enter the angle (degrees) between the force and the direction of movement:  60\n"
     ]
    },
    {
     "name": "stdout",
     "output_type": "stream",
     "text": [
      "The work done by the force is: 37.50000000000001 Joules\n"
     ]
    }
   ],
   "source": [
    "import math\n",
    "\n",
    "f = float(input(\"Enter the force (N): \"))\n",
    "d = float(input(\"Enter the distance (m): \"))\n",
    "theta = float(input(\"Enter the angle (degrees) between the force and the direction of movement: \"))\n",
    "# Convert theta to radians for calculation\n",
    "theta_rad = math.radians(theta)\n",
    "work_done = f * d * math.cos(theta_rad)\n",
    "print(f\"The work done by the force is: {work_done} Joules\")\n"
   ]
  },
  {
   "cell_type": "markdown",
   "id": "a4af8b3f-0707-41ec-a062-5d49b00a6017",
   "metadata": {},
   "source": [
    "20) Heat Transfer: \n",
    "Write a Python program to calculate the amount of heat transferred. Use the formula:  \n",
    "Q =𝑚𝑐 (∆T) \n",
    "where: \n",
    "Q= heat transfer \n",
    "m = mass \n",
    "c = specific heat capacity \n",
    "ΔT \n",
    "Take m, c, T as inputs from the user."
   ]
  },
  {
   "cell_type": "code",
   "execution_count": 47,
   "id": "36cf9e6d-c36a-4e28-b006-c4219c50e421",
   "metadata": {},
   "outputs": [
    {
     "name": "stdin",
     "output_type": "stream",
     "text": [
      "Enter the mass (kg):  25\n",
      "Enter the specific heat capacity (J/kg·°C):  52\n",
      "Enter the initial temperature (°C):  23\n",
      "Enter the final temperature (°C):  60\n"
     ]
    },
    {
     "name": "stdout",
     "output_type": "stream",
     "text": [
      "The amount of heat transferred is: 48100.0 Joules\n"
     ]
    }
   ],
   "source": [
    "m = float(input(\"Enter the mass (kg): \"))\n",
    "c = float(input(\"Enter the specific heat capacity (J/kg·°C): \"))\n",
    "T_initial = float(input(\"Enter the initial temperature (°C): \"))\n",
    "T_final = float(input(\"Enter the final temperature (°C): \"))\n",
    "ΔT = T_final - T_initial\n",
    "Q = m * c * ΔT\n",
    "print(f\"The amount of heat transferred is: {Q} Joules\")\n"
   ]
  },
  {
   "cell_type": "code",
   "execution_count": null,
   "id": "aabc474e-5c99-4efe-aa5a-45b389b2e23d",
   "metadata": {},
   "outputs": [],
   "source": []
  }
 ],
 "metadata": {
  "kernelspec": {
   "display_name": "Python 3 (ipykernel)",
   "language": "python",
   "name": "python3"
  },
  "language_info": {
   "codemirror_mode": {
    "name": "ipython",
    "version": 3
   },
   "file_extension": ".py",
   "mimetype": "text/x-python",
   "name": "python",
   "nbconvert_exporter": "python",
   "pygments_lexer": "ipython3",
   "version": "3.12.7"
  }
 },
 "nbformat": 4,
 "nbformat_minor": 5
}
