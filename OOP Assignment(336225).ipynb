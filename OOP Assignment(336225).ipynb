{
 "cells": [
  {
   "cell_type": "markdown",
   "id": "bf40ae53-cb2e-4e60-8c68-01863626fbc0",
   "metadata": {},
   "source": [
    "1) Write a Python program to create a class called \"Person\" with properties for \n",
    "name, age and country. Include a method to display the person's details. Create \n",
    "two instances of the 'Person' class and display their details. "
   ]
  },
  {
   "cell_type": "code",
   "execution_count": 21,
   "id": "b8477b2a-acf0-4770-8f51-bfdd5cca503c",
   "metadata": {},
   "outputs": [],
   "source": [
    "class Person:\n",
    "    def __init__(self, name, age, country):\n",
    "        self.name = name\n",
    "        self.age = age\n",
    "        self.country = country\n",
    "    \n",
    "    def display_details(self):\n",
    "        print(f\"Name: {self.name}, Age: {self.age}, Country: {self.country}\")\n"
   ]
  },
  {
   "cell_type": "code",
   "execution_count": 23,
   "id": "d57b162d-f16f-41a2-aa66-f7d0a3228d98",
   "metadata": {},
   "outputs": [],
   "source": [
    "person1 = Person(\"Kunal\", 30, \"USA\")\n",
    "person2 = Person(\"ali\", 25, \"Canada\")"
   ]
  },
  {
   "cell_type": "code",
   "execution_count": 25,
   "id": "82aea5bb-c2ab-4869-8505-8533b3f9a44f",
   "metadata": {},
   "outputs": [
    {
     "name": "stdout",
     "output_type": "stream",
     "text": [
      "Name: Kunal, Age: 30, Country: USA\n",
      "Name: ali, Age: 25, Country: Canada\n"
     ]
    }
   ],
   "source": [
    "person1.display_details()\n",
    "person2.display_details()"
   ]
  },
  {
   "cell_type": "markdown",
   "id": "9eb0a99d-5815-4af4-b9e3-cb408b387ad0",
   "metadata": {},
   "source": [
    "2) Write a Python program to create a class called 'Rectangle' with properties for \n",
    "width and height. Include two methods to calculate rectangle area and perimeter. \n",
    "Create an instance of the 'Rectangle' class and calculate its area and perimeter."
   ]
  },
  {
   "cell_type": "code",
   "execution_count": 28,
   "id": "cde3cc77-6d3f-4bc8-9854-a1238ffbbea3",
   "metadata": {},
   "outputs": [],
   "source": [
    "class Rectangle:\n",
    "    def __init__(self, width, height):\n",
    "        self.width = width\n",
    "        self.height = height\n",
    "    \n",
    "    def calculate_area(self):\n",
    "        return self.width * self.height\n",
    "    \n",
    "    def calculate_perimeter(self):\n",
    "        return 2 * (self.width + self.height)"
   ]
  },
  {
   "cell_type": "code",
   "execution_count": 30,
   "id": "d3ad17f3-6197-40d9-bce9-4b14a37cbc02",
   "metadata": {},
   "outputs": [],
   "source": [
    "rectangle = Rectangle(5, 10)"
   ]
  },
  {
   "cell_type": "code",
   "execution_count": 32,
   "id": "d9c0fdb9-eb18-4f6f-ad54-4c68f581bbd7",
   "metadata": {},
   "outputs": [
    {
     "name": "stdout",
     "output_type": "stream",
     "text": [
      "Area: 50\n",
      "Perimeter: 30\n"
     ]
    }
   ],
   "source": [
    "print(f\"Area: {rectangle.calculate_area()}\")\n",
    "print(f\"Perimeter: {rectangle.calculate_perimeter()}\")"
   ]
  },
  {
   "cell_type": "markdown",
   "id": "5c56ee4a-eab4-4796-8637-45ff9ddc667d",
   "metadata": {},
   "source": [
    "3) Write a Python program that creates a class called 'Vehicle' with properties for \n",
    "make, model, and year. Include a method to display vehicle details. Create a \n",
    "subclass called 'Car' that inherits from the 'Vehicle' class and includes an \n",
    "additional property for the number of doors. Override the display method to \n",
    "include the number of doors."
   ]
  },
  {
   "cell_type": "code",
   "execution_count": 36,
   "id": "a7d4db02-3199-488c-95a2-fe5b8ae74a98",
   "metadata": {},
   "outputs": [],
   "source": [
    "class Vehicle:\n",
    "    def __init__(self, make, model, year):\n",
    "        self.make = make\n",
    "        self.model = model\n",
    "        self.year = year\n",
    "    \n",
    "    def display_details(self):\n",
    "        print(f\"Make: {self.make}, Model: {self.model}, Year: {self.year}\")\n",
    "\n",
    "class Car(Vehicle):\n",
    "    def __init__(self, make, model, year, num_doors):\n",
    "        super().__init__(make, model, year)\n",
    "        self.num_doors = num_doors\n",
    "    \n",
    "    def display_details(self):\n",
    "        super().display_details()\n",
    "        print(f\"Number of doors: {self.num_doors}\")"
   ]
  },
  {
   "cell_type": "code",
   "execution_count": 38,
   "id": "31dbd4ac-e318-4328-8aae-110e9ff26f4c",
   "metadata": {},
   "outputs": [],
   "source": [
    "car = Car(\"Toyota\", \"Corolla\", 2022, 4)"
   ]
  },
  {
   "cell_type": "code",
   "execution_count": 40,
   "id": "1a5e9650-96c3-4cd2-b6a7-ff3fd8b973b5",
   "metadata": {},
   "outputs": [
    {
     "name": "stdout",
     "output_type": "stream",
     "text": [
      "Make: Toyota, Model: Corolla, Year: 2022\n",
      "Number of doors: 4\n"
     ]
    }
   ],
   "source": [
    "car.display_details()"
   ]
  },
  {
   "cell_type": "markdown",
   "id": "b6c663b4-7850-4e17-9b58-9d0d43e0d87a",
   "metadata": {},
   "source": [
    "4) Write a Python program that creates a class called \"BankAccount\" with \n",
    "properties for account number and balance. Include methods to deposit and \n",
    "withdraw money from the account. Create some instances of the \"BankAccount\" \n",
    "class, deposit some money, and withdraw a portion of it. "
   ]
  },
  {
   "cell_type": "code",
   "execution_count": 44,
   "id": "69ebf274-cd60-4dec-8237-9dc0d04b2433",
   "metadata": {},
   "outputs": [],
   "source": [
    "class BankAccount:\n",
    "    def __init__(self, account_number, balance):\n",
    "        self.account_number = account_number\n",
    "        self.balance = balance\n",
    "    \n",
    "    def deposit(self, amount):\n",
    "        self.balance += amount\n",
    "        print(f\"Deposited {amount}, new balance: {self.balance}\")\n",
    "    \n",
    "    def withdraw(self, amount):\n",
    "        if self.balance >= amount:\n",
    "            self.balance -= amount\n",
    "            print(f\"Withdrew {amount}, new balance: {self.balance}\")\n",
    "        else:\n",
    "            print(\"Insufficient balance\")"
   ]
  },
  {
   "cell_type": "code",
   "execution_count": 48,
   "id": "20082aa5-23a8-47dd-a9cc-2754b2ea4d9b",
   "metadata": {},
   "outputs": [],
   "source": [
    "account1 = BankAccount(\"12345\", 1000)"
   ]
  },
  {
   "cell_type": "code",
   "execution_count": 50,
   "id": "1f40d8ab-e16e-4a34-9329-77288123cff6",
   "metadata": {},
   "outputs": [
    {
     "name": "stdout",
     "output_type": "stream",
     "text": [
      "Deposited 500, new balance: 1500\n"
     ]
    }
   ],
   "source": [
    "account1.deposit(500)"
   ]
  },
  {
   "cell_type": "code",
   "execution_count": 52,
   "id": "0c06765a-1797-41ea-99a0-e157bfd8d120",
   "metadata": {},
   "outputs": [
    {
     "name": "stdout",
     "output_type": "stream",
     "text": [
      "Withdrew 300, new balance: 1200\n"
     ]
    }
   ],
   "source": [
    "account1.withdraw(300)"
   ]
  },
  {
   "cell_type": "markdown",
   "id": "683a152d-1214-4dcd-a9cc-36300bd8c097",
   "metadata": {},
   "source": [
    "5) Write a Python program that creates a class called 'Shape' with a method to \n",
    "calculate the area. Create two subclasses, 'Circle' and 'Triangle', that inherit from \n",
    "the 'Shape' class and override the area calculation method. Create an instance of \n",
    "the 'Circle' class and calculate its area. Similarly, do the same for the 'Triangle' \n",
    "class."
   ]
  },
  {
   "cell_type": "code",
   "execution_count": 55,
   "id": "8e9cf9fe-2f0f-4fa0-9c78-3e42fc9b4e8d",
   "metadata": {},
   "outputs": [],
   "source": [
    "import math\n",
    "\n",
    "class Shape:\n",
    "    def calculate_area(self):\n",
    "        pass\n",
    "\n",
    "class Circle(Shape):\n",
    "    def __init__(self, radius):\n",
    "        self.radius = radius\n",
    "    \n",
    "    def calculate_area(self):\n",
    "        return math.pi * (self.radius ** 2)\n",
    "\n",
    "class Triangle(Shape):\n",
    "    def __init__(self, base, height):\n",
    "        self.base = base\n",
    "        self.height = height\n",
    "    \n",
    "    def calculate_area(self):\n",
    "        return 0.5 * self.base * self.height"
   ]
  },
  {
   "cell_type": "code",
   "execution_count": 57,
   "id": "0086b9c4-2986-4dba-ac23-bb6f00562335",
   "metadata": {},
   "outputs": [],
   "source": [
    "circle = Circle(5)\n",
    "triangle = Triangle(10, 4)"
   ]
  },
  {
   "cell_type": "code",
   "execution_count": 59,
   "id": "172a0cd6-e32b-4ce0-8032-e3b9fd6f8c63",
   "metadata": {},
   "outputs": [
    {
     "name": "stdout",
     "output_type": "stream",
     "text": [
      "Circle area: 78.53981633974483\n",
      "Triangle area: 20.0\n"
     ]
    }
   ],
   "source": [
    "print(f\"Circle area: {circle.calculate_area()}\")\n",
    "print(f\"Triangle area: {triangle.calculate_area()}\")"
   ]
  },
  {
   "cell_type": "markdown",
   "id": "1f23f3d6-ef50-4c86-aa62-0dbb5c1c175c",
   "metadata": {},
   "source": [
    "6) Write a Python program that creates a class called 'Employee' with properties \n",
    "for name and salary. Include a method to calculate annual salary. Create a \n",
    "subclass called 'Manager' that inherits from the 'Employee' class and adds an \n",
    "additional property for department. Override the annual salary calculation method \n",
    "to include bonuses for managers. Create two instances of the 'Manager' class \n",
    "and calculate their annual salary. "
   ]
  },
  {
   "cell_type": "code",
   "execution_count": 62,
   "id": "995a7c3b-029a-4cc0-bee2-5495a2075d31",
   "metadata": {},
   "outputs": [],
   "source": [
    "class Employee:\n",
    "    def __init__(self, name, salary):\n",
    "        self.name = name\n",
    "        self.salary = salary\n",
    "    \n",
    "    def calculate_annual_salary(self):\n",
    "        return self.salary * 12\n",
    "\n",
    "class Manager(Employee):\n",
    "    def __init__(self, name, salary, department):\n",
    "        super().__init__(name, salary)\n",
    "        self.department = department\n",
    "    \n",
    "    def calculate_annual_salary(self):\n",
    "        return (self.salary * 12) + 5000  # Adding bonus for managers"
   ]
  },
  {
   "cell_type": "code",
   "execution_count": 64,
   "id": "1880e8d0-2bd5-43af-ba4c-c095cd7b0920",
   "metadata": {},
   "outputs": [],
   "source": [
    "manager1 = Manager(\"M TARIQ\", 5000, \"HR\")\n",
    "manager2 = Manager(\"JAMEEL\", 6000, \"IT\")"
   ]
  },
  {
   "cell_type": "code",
   "execution_count": 66,
   "id": "a3ea832a-8e9e-44db-a9b1-61ee8c91ee7e",
   "metadata": {},
   "outputs": [
    {
     "name": "stdout",
     "output_type": "stream",
     "text": [
      "M TARIQ's annual salary: 65000\n",
      "JAMEEL's annual salary: 77000\n"
     ]
    }
   ],
   "source": [
    "print(f\"{manager1.name}'s annual salary: {manager1.calculate_annual_salary()}\")\n",
    "print(f\"{manager2.name}'s annual salary: {manager2.calculate_annual_salary()}\")"
   ]
  },
  {
   "cell_type": "markdown",
   "id": "b25fe25f-d8b4-45e1-a22b-c532ee6ef039",
   "metadata": {},
   "source": [
    "7) Write a Python program that creates a class `Book` with properties for title, \n",
    "author, and publication year. Include a method to display book details. Create a \n",
    "subclass called 'Ebook' that inherits from the 'Book' class and includes an \n",
    "additional property for book price. Override the display method to include the \n",
    "book price. Create an instance of the 'Ebook' class and display its details. \n"
   ]
  },
  {
   "cell_type": "code",
   "execution_count": 69,
   "id": "e8340b39-0641-4ad3-ab9d-c96d81a63ec1",
   "metadata": {},
   "outputs": [],
   "source": [
    "class Book:\n",
    "    def __init__(self, title, author, publication_year):\n",
    "        self.title = title\n",
    "        self.author = author\n",
    "        self.publication_year = publication_year\n",
    "    \n",
    "    def display_details(self):\n",
    "        print(f\"Title: {self.title}, Author: {self.author}, Year: {self.publication_year}\")\n",
    "\n",
    "class Ebook(Book):\n",
    "    def __init__(self, title, author, publication_year, price):\n",
    "        super().__init__(title, author, publication_year)\n",
    "        self.price = price\n",
    "    \n",
    "    def display_details(self):\n",
    "        super().display_details()\n",
    "        print(f\"Price: {self.price}\")\n"
   ]
  },
  {
   "cell_type": "code",
   "execution_count": 71,
   "id": "d9a1a7d8-9ecb-4045-bcfb-c165b713ef9f",
   "metadata": {},
   "outputs": [],
   "source": [
    "ebook = Ebook(\"Python Programming\", \"Alice\", 2020, 19.99)"
   ]
  },
  {
   "cell_type": "code",
   "execution_count": 73,
   "id": "4851d0ed-e8f7-4140-beb7-59a0a12a51cd",
   "metadata": {},
   "outputs": [
    {
     "name": "stdout",
     "output_type": "stream",
     "text": [
      "Title: Python Programming, Author: Alice, Year: 2020\n",
      "Price: 19.99\n"
     ]
    }
   ],
   "source": [
    "ebook.display_details()"
   ]
  },
  {
   "cell_type": "markdown",
   "id": "7433000e-9c01-4088-82e4-5579ccf18928",
   "metadata": {},
   "source": [
    "8) Write a Python program that creates a class called 'Animal' with properties for \n",
    "species and sound. Include a method to make the animal's sound. Create a \n",
    "subclass called 'Dog' that inherits from the 'Animal' class and adds an additional \n",
    "property for color. Override the make sound method to include the dog's color. \n",
    "Create an instance of the 'Dog' class and make it make its sound."
   ]
  },
  {
   "cell_type": "code",
   "execution_count": 76,
   "id": "f00a98a0-fb7e-49b3-a187-32382659a171",
   "metadata": {},
   "outputs": [],
   "source": [
    "class Animal:\n",
    "    def __init__(self, species, sound):\n",
    "        self.species = species\n",
    "        self.sound = sound\n",
    "    \n",
    "    def make_sound(self):\n",
    "        print(self.sound)\n",
    "\n",
    "class Dog(Animal):\n",
    "    def __init__(self, species, sound, color):\n",
    "        super().__init__(species, sound)\n",
    "        self.color = color\n",
    "    \n",
    "    def make_sound(self):\n",
    "        print(f\"The {self.color} dog says: {self.sound}\")"
   ]
  },
  {
   "cell_type": "code",
   "execution_count": 78,
   "id": "9702e89b-c44e-494f-a58f-fe61c8ca46e6",
   "metadata": {},
   "outputs": [],
   "source": [
    "dog = Dog(\"Dog\", \"Woof\", \"Brown\")"
   ]
  },
  {
   "cell_type": "code",
   "execution_count": 80,
   "id": "0b4e88eb-4102-4d24-925c-c1e531395fe4",
   "metadata": {},
   "outputs": [
    {
     "name": "stdout",
     "output_type": "stream",
     "text": [
      "The Brown dog says: Woof\n"
     ]
    }
   ],
   "source": [
    "dog.make_sound()"
   ]
  },
  {
   "cell_type": "markdown",
   "id": "f454e0fe-9d02-420e-9080-f1c95b073d40",
   "metadata": {},
   "source": [
    "9) Write a Python program that creates a class called Bank with properties for \n",
    "bank names and branches. Include methods to add a branch, remove a branch, \n",
    "and display all branches. Create an instance of the Bank class and perform \n",
    "operations to add and remove branches. "
   ]
  },
  {
   "cell_type": "code",
   "execution_count": 86,
   "id": "d9153e49-621a-4286-a9d3-a8797f57e58e",
   "metadata": {},
   "outputs": [],
   "source": [
    "class Bank:\n",
    "    def __init__(self, bank_name):\n",
    "        self.bank_name = bank_name\n",
    "        self.branches = []\n",
    "    \n",
    "    def add_branch(self, branch_name):\n",
    "        self.branches.append(branch_name)\n",
    "    \n",
    "    def remove_branch(self, branch_name):\n",
    "        if branch_name in self.branches:\n",
    "            self.branches.remove(branch_name)\n",
    "        else:\n",
    "            print(f\"Branch {branch_name} not found.\")\n",
    "    \n",
    "    def display_branches(self):\n",
    "        print(f\"Branches of {self.bank_name}: {', '.join(self.branches)}\")"
   ]
  },
  {
   "cell_type": "code",
   "execution_count": 88,
   "id": "ca912a2a-6972-42db-aa9c-53108031c9eb",
   "metadata": {},
   "outputs": [],
   "source": [
    "bank = Bank(\"ABL Bank\")"
   ]
  },
  {
   "cell_type": "code",
   "execution_count": 90,
   "id": "64cbe526-01de-4e85-8663-d6d84c8defde",
   "metadata": {},
   "outputs": [],
   "source": [
    "bank.add_branch(\"Saddar,Karachi\")"
   ]
  },
  {
   "cell_type": "code",
   "execution_count": 92,
   "id": "885359ce-1bce-42cb-b79a-bbab42c823ac",
   "metadata": {},
   "outputs": [],
   "source": [
    "bank.add_branch(\"Baloch colony,Karachi\")"
   ]
  },
  {
   "cell_type": "code",
   "execution_count": 94,
   "id": "07dced09-e66c-4a22-aaa7-ae1a7237c591",
   "metadata": {},
   "outputs": [
    {
     "name": "stdout",
     "output_type": "stream",
     "text": [
      "Branches of ABL Bank: Saddar,Karachi, Baloch colony,Karachi\n"
     ]
    }
   ],
   "source": [
    "bank.display_branches()"
   ]
  },
  {
   "cell_type": "code",
   "execution_count": 96,
   "id": "6f35961d-2266-4e13-8e76-a3415fa31de4",
   "metadata": {},
   "outputs": [],
   "source": [
    "bank.remove_branch(\"Baloch colony,Karachi\")"
   ]
  },
  {
   "cell_type": "code",
   "execution_count": 98,
   "id": "bdfce4ab-e62e-4ce0-a405-52f4123b904d",
   "metadata": {},
   "outputs": [
    {
     "name": "stdout",
     "output_type": "stream",
     "text": [
      "Branches of ABL Bank: Saddar,Karachi\n"
     ]
    }
   ],
   "source": [
    "bank.display_branches()"
   ]
  },
  {
   "cell_type": "markdown",
   "id": "4033c56c-1a02-4ec2-8d91-235a92e0721a",
   "metadata": {},
   "source": [
    "10)  Write a Python program that creates a class called Product with properties for \n",
    "product ID, name, and price. Include a method to calculate the total price by \n",
    "multiplying the price by the quantity. Create a subclass called \n",
    "PersonalCareProduct that inherits from the Product class and adds an additional \n",
    "property for the warranty period. Override the total price calculation method to \n",
    "include the warranty period. Create an instance of the PersonalCareProduct \n",
    "class and calculate its total price. "
   ]
  },
  {
   "cell_type": "code",
   "execution_count": 101,
   "id": "a16d6c36-0f2c-4cfc-9a20-da12652c5de6",
   "metadata": {},
   "outputs": [],
   "source": [
    "class Product:\n",
    "    def __init__(self, product_id, name, price):\n",
    "        self.product_id = product_id\n",
    "        self.name = name\n",
    "        self.price = price\n",
    "    \n",
    "    def calculate_total_price(self, quantity):\n",
    "        return self.price * quantity\n",
    "\n",
    "class PersonalCareProduct(Product):\n",
    "    def __init__(self, product_id, name, price, warranty_period):\n",
    "        super().__init__(product_id, name, price)\n",
    "        self.warranty_period = warranty_period\n",
    "    \n",
    "    def calculate_total_price(self, quantity):\n",
    "        return (self.price * quantity) + self.warranty_period  # Including warranty cost"
   ]
  },
  {
   "cell_type": "code",
   "execution_count": 103,
   "id": "a447119a-27ec-402c-a3ed-bb1879fb3b55",
   "metadata": {},
   "outputs": [],
   "source": [
    "personal_care_product = PersonalCareProduct(\"001\", \"Shampoo\", 5.99, 2)"
   ]
  },
  {
   "cell_type": "code",
   "execution_count": 105,
   "id": "04e4a5c2-e473-4156-b655-5ab0da1d5e63",
   "metadata": {},
   "outputs": [
    {
     "name": "stdout",
     "output_type": "stream",
     "text": [
      "Total price: 19.97\n"
     ]
    }
   ],
   "source": [
    "print(f\"Total price: {personal_care_product.calculate_total_price(3)}\")"
   ]
  },
  {
   "cell_type": "markdown",
   "id": "7d47ff72-a4a1-4a41-8c93-5e7a3e6c35e3",
   "metadata": {},
   "source": [
    "11) Write a Python program that creates a class called BankAccount with \n",
    "properties for account number, account holder name, and balance. Include \n",
    "methods to deposit, withdraw, and transfer money between accounts. Create \n",
    "multiple instances of the BankAccount class and perform operations such as \n",
    "depositing, withdrawing, and transferring money. "
   ]
  },
  {
   "cell_type": "code",
   "execution_count": 110,
   "id": "78b38596-86ab-481b-9b2a-27128b25f932",
   "metadata": {},
   "outputs": [],
   "source": [
    "class BankAccount:\n",
    "    def __init__(self, account_number, holder_name, balance):\n",
    "        self.account_number = account_number\n",
    "        self.holder_name = holder_name\n",
    "        self.balance = balance\n",
    "    \n",
    "    def deposit(self, amount):\n",
    "        self.balance += amount\n",
    "        print(f\"Deposited {amount}, new balance: {self.balance}\")\n",
    "    \n",
    "    def withdraw(self, amount):\n",
    "        if self.balance >= amount:\n",
    "            self.balance -= amount\n",
    "            print(f\"Withdrew {amount}, new balance: {self.balance}\")\n",
    "        else:\n",
    "            print(\"Insufficient balance\")\n",
    "    \n",
    "    def transfer(self, amount, other_account):\n",
    "        if self.balance >= amount:\n",
    "            self.balance -= amount\n",
    "            other_account.balance += amount\n",
    "            print(f\"Transferred {amount} to {other_account.holder_name}\")\n",
    "        else:\n",
    "            print(\"Insufficient balance\")"
   ]
  },
  {
   "cell_type": "code",
   "execution_count": 112,
   "id": "c7ced02f-bbbe-46ef-9b8a-55d79d7c15df",
   "metadata": {},
   "outputs": [],
   "source": [
    "account1 = BankAccount(\"12345\", \"Kumar\", 1000)"
   ]
  },
  {
   "cell_type": "code",
   "execution_count": 118,
   "id": "9cd228e4-536d-4a26-b466-5af43ad09b78",
   "metadata": {},
   "outputs": [],
   "source": [
    "account2 = BankAccount(\"67890\", \"Bubloo\", 500)"
   ]
  },
  {
   "cell_type": "code",
   "execution_count": 120,
   "id": "3d11cd00-9e91-4e4d-8ba8-ebb4ca70ef71",
   "metadata": {},
   "outputs": [
    {
     "name": "stdout",
     "output_type": "stream",
     "text": [
      "Transferred 300 to Bubloo\n"
     ]
    }
   ],
   "source": [
    "account1.transfer(300, account2)"
   ]
  },
  {
   "cell_type": "markdown",
   "id": "59067c40-2b37-42e7-a2ae-1aa6bcd0fe8f",
   "metadata": {},
   "source": [
    "12) Write a Python program that creates a class called University with properties \n",
    "for university name and departments. Include methods to add a department, \n",
    "remove a department, and display all departments. Create an instance of the \n",
    "University class and add and remove departments."
   ]
  },
  {
   "cell_type": "code",
   "execution_count": 123,
   "id": "0115d7ae-1429-48e4-9f0c-b339685b4baf",
   "metadata": {},
   "outputs": [],
   "source": [
    "class University:\n",
    "    def __init__(self, name):\n",
    "        self.name = name\n",
    "        self.departments = []\n",
    "    \n",
    "    def add_department(self, department):\n",
    "        self.departments.append(department)\n",
    "    \n",
    "    def remove_department(self, department):\n",
    "        if department in self.departments:\n",
    "            self.departments.remove(department)\n",
    "        else:\n",
    "            print(f\"Department {department} not found.\")\n",
    "    \n",
    "    def display_departments(self):\n",
    "        print(f\"Departments at {self.name}: {', '.join(self.departments)}\")"
   ]
  },
  {
   "cell_type": "code",
   "execution_count": 125,
   "id": "0f20d4ee-57bc-4942-8b3c-68fbc7e12cc9",
   "metadata": {},
   "outputs": [],
   "source": [
    "university = University(\"SMIU University\")"
   ]
  },
  {
   "cell_type": "code",
   "execution_count": 127,
   "id": "86dc5dfe-1a34-45ec-bef2-b58c71bed166",
   "metadata": {},
   "outputs": [],
   "source": [
    "university.add_department(\"Computer Science\")"
   ]
  },
  {
   "cell_type": "code",
   "execution_count": 129,
   "id": "5146e946-70c5-400b-b61c-e2d591120d7d",
   "metadata": {},
   "outputs": [
    {
     "name": "stdout",
     "output_type": "stream",
     "text": [
      "Departments at SMIU University: Computer Science\n"
     ]
    }
   ],
   "source": [
    "university.display_departments()"
   ]
  },
  {
   "cell_type": "code",
   "execution_count": 137,
   "id": "ab897d0f-e4bb-4d8e-82b1-30e3afe09bc2",
   "metadata": {},
   "outputs": [],
   "source": [
    "university.add_department(\"AI\")"
   ]
  },
  {
   "cell_type": "code",
   "execution_count": 139,
   "id": "ce258eb8-3e0f-4e71-832f-7a05e47ba7bd",
   "metadata": {},
   "outputs": [
    {
     "name": "stdout",
     "output_type": "stream",
     "text": [
      "Departments at SMIU University: Computer Science, AI\n"
     ]
    }
   ],
   "source": [
    "university.display_departments()"
   ]
  },
  {
   "cell_type": "code",
   "execution_count": 141,
   "id": "de23974d-cc93-4c7b-848c-f7ebb698f9ff",
   "metadata": {},
   "outputs": [],
   "source": [
    "university.remove_department(\"AI\")"
   ]
  },
  {
   "cell_type": "code",
   "execution_count": 143,
   "id": "a28d5060-7fd1-41c0-bc79-359ebe4fad41",
   "metadata": {},
   "outputs": [
    {
     "name": "stdout",
     "output_type": "stream",
     "text": [
      "Departments at SMIU University: Computer Science\n"
     ]
    }
   ],
   "source": [
    "university.display_departments()"
   ]
  },
  {
   "cell_type": "code",
   "execution_count": null,
   "id": "0df28611-50e1-4932-a1ba-e09936519563",
   "metadata": {},
   "outputs": [],
   "source": []
  }
 ],
 "metadata": {
  "kernelspec": {
   "display_name": "Python 3 (ipykernel)",
   "language": "python",
   "name": "python3"
  },
  "language_info": {
   "codemirror_mode": {
    "name": "ipython",
    "version": 3
   },
   "file_extension": ".py",
   "mimetype": "text/x-python",
   "name": "python",
   "nbconvert_exporter": "python",
   "pygments_lexer": "ipython3",
   "version": "3.12.7"
  }
 },
 "nbformat": 4,
 "nbformat_minor": 5
}
