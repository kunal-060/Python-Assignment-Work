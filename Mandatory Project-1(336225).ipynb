{
 "cells": [
  {
   "cell_type": "code",
   "execution_count": 1,
   "id": "56a3f929-0016-4f5b-8c2c-8cff43631822",
   "metadata": {},
   "outputs": [
    {
     "name": "stdout",
     "output_type": "stream",
     "text": [
      "Welcome to the Banking System!\n",
      "\n",
      "Banking System Menu:\n",
      "1. Create Account\n",
      "2. Deposit Money\n",
      "3. Withdraw Money\n",
      "4. Check Balance\n",
      "5. Print Statement\n",
      "6. Exit\n"
     ]
    },
    {
     "name": "stdin",
     "output_type": "stream",
     "text": [
      "Choose an option (1-6):  1\n",
      "Enter account holder's name:  Kunal\n"
     ]
    },
    {
     "name": "stdout",
     "output_type": "stream",
     "text": [
      "Account for Kunal created with balance 0.0 PKR.\n",
      "\n",
      "Banking System Menu:\n",
      "1. Create Account\n",
      "2. Deposit Money\n",
      "3. Withdraw Money\n",
      "4. Check Balance\n",
      "5. Print Statement\n",
      "6. Exit\n"
     ]
    },
    {
     "name": "stdin",
     "output_type": "stream",
     "text": [
      "Choose an option (1-6):  2\n",
      "Enter account holder's name:  kunal\n"
     ]
    },
    {
     "name": "stdout",
     "output_type": "stream",
     "text": [
      "Account for kunal not found.\n",
      "\n",
      "Banking System Menu:\n",
      "1. Create Account\n",
      "2. Deposit Money\n",
      "3. Withdraw Money\n",
      "4. Check Balance\n",
      "5. Print Statement\n",
      "6. Exit\n"
     ]
    },
    {
     "name": "stdin",
     "output_type": "stream",
     "text": [
      "Choose an option (1-6):  2\n",
      "Enter account holder's name:  Kunal\n",
      "Enter deposit amount:  500000\n"
     ]
    },
    {
     "name": "stdout",
     "output_type": "stream",
     "text": [
      "Kunal deposited 500000.0 PKR. New balance: 500000.0 PKR.\n",
      "\n",
      "Banking System Menu:\n",
      "1. Create Account\n",
      "2. Deposit Money\n",
      "3. Withdraw Money\n",
      "4. Check Balance\n",
      "5. Print Statement\n",
      "6. Exit\n"
     ]
    },
    {
     "name": "stdin",
     "output_type": "stream",
     "text": [
      "Choose an option (1-6):  3\n",
      "Enter account holder's name:  Kunal\n",
      "Enter withdrawal amount:  105821\n"
     ]
    },
    {
     "name": "stdout",
     "output_type": "stream",
     "text": [
      "Kunal withdrew 105821.0 PKR. New balance: 394179.0 PKR.\n",
      "\n",
      "Banking System Menu:\n",
      "1. Create Account\n",
      "2. Deposit Money\n",
      "3. Withdraw Money\n",
      "4. Check Balance\n",
      "5. Print Statement\n",
      "6. Exit\n"
     ]
    },
    {
     "name": "stdin",
     "output_type": "stream",
     "text": [
      "Choose an option (1-6):  1\n",
      "Enter account holder's name:  Sahil\n"
     ]
    },
    {
     "name": "stdout",
     "output_type": "stream",
     "text": [
      "Account for Sahil created with balance 0.0 PKR.\n",
      "\n",
      "Banking System Menu:\n",
      "1. Create Account\n",
      "2. Deposit Money\n",
      "3. Withdraw Money\n",
      "4. Check Balance\n",
      "5. Print Statement\n",
      "6. Exit\n"
     ]
    },
    {
     "name": "stdin",
     "output_type": "stream",
     "text": [
      "Choose an option (1-6):  2\n",
      "Enter account holder's name:  Kunal\n",
      "Enter deposit amount:  100000\n"
     ]
    },
    {
     "name": "stdout",
     "output_type": "stream",
     "text": [
      "Kunal deposited 100000.0 PKR. New balance: 494179.0 PKR.\n",
      "\n",
      "Banking System Menu:\n",
      "1. Create Account\n",
      "2. Deposit Money\n",
      "3. Withdraw Money\n",
      "4. Check Balance\n",
      "5. Print Statement\n",
      "6. Exit\n"
     ]
    },
    {
     "name": "stdin",
     "output_type": "stream",
     "text": [
      "Choose an option (1-6):  5\n",
      "Enter account holder's name:  Kunal\n"
     ]
    },
    {
     "name": "stdout",
     "output_type": "stream",
     "text": [
      "Account statement for Kunal:\n",
      "Deposit: 500000.0 PKR. New Balance: 500000.0 PKR.\n",
      "Withdrawal: 105821.0 PKR. New Balance: 394179.0 PKR.\n",
      "Deposit: 100000.0 PKR. New Balance: 494179.0 PKR.\n",
      "\n",
      "Banking System Menu:\n",
      "1. Create Account\n",
      "2. Deposit Money\n",
      "3. Withdraw Money\n",
      "4. Check Balance\n",
      "5. Print Statement\n",
      "6. Exit\n"
     ]
    },
    {
     "name": "stdin",
     "output_type": "stream",
     "text": [
      "Choose an option (1-6):  4\n",
      "Enter account holder's name:  Kunal\n"
     ]
    },
    {
     "name": "stdout",
     "output_type": "stream",
     "text": [
      "Kunal's current balance: 494179.0 PKR.\n",
      "\n",
      "Banking System Menu:\n",
      "1. Create Account\n",
      "2. Deposit Money\n",
      "3. Withdraw Money\n",
      "4. Check Balance\n",
      "5. Print Statement\n",
      "6. Exit\n"
     ]
    },
    {
     "name": "stdin",
     "output_type": "stream",
     "text": [
      "Choose an option (1-6):  6\n"
     ]
    },
    {
     "name": "stdout",
     "output_type": "stream",
     "text": [
      "Exiting the banking system.\n"
     ]
    }
   ],
   "source": [
    "import os\n",
    "\n",
    "# Global storage for all accounts\n",
    "accounts = {}\n",
    "\n",
    "# Function to create an account\n",
    "def create_account(name):\n",
    "    if name in accounts:\n",
    "        print(f\"Account for {name} already exists.\")\n",
    "        return None\n",
    "    \n",
    "    account = {\n",
    "        \"name\": name,\n",
    "        \"balance\": 0.0,\n",
    "        \"transactions\": []\n",
    "    }\n",
    "    accounts[name] = account\n",
    "    print(f\"Account for {name} created with balance {account['balance']} PKR.\")\n",
    "    return account\n",
    "\n",
    "# Function to deposit money into the account\n",
    "def deposit(account, amount):\n",
    "    if amount <= 0:\n",
    "        print(\"Deposit amount must be positive.\")\n",
    "        return account\n",
    "\n",
    "    account['balance'] += amount\n",
    "    account['transactions'].append(f\"Deposit: {amount} PKR. New Balance: {account['balance']} PKR.\")\n",
    "    print(f\"{account['name']} deposited {amount} PKR. New balance: {account['balance']} PKR.\")\n",
    "    \n",
    "    # Record transaction in file\n",
    "    with open(f\"{account['name']}_transactions.txt\", 'a') as file:\n",
    "        file.write(f\"Deposit: {amount} PKR. New Balance: {account['balance']} PKR.\\n\")\n",
    "    \n",
    "    return account\n",
    "\n",
    "# Function to withdraw money from the account\n",
    "def withdraw(account, amount):\n",
    "    if amount <= 0:\n",
    "        print(\"Withdrawal amount must be positive.\")\n",
    "        return account\n",
    "\n",
    "    if amount > account['balance']:\n",
    "        print(f\"Insufficient balance. You cannot withdraw {amount} PKR.\")\n",
    "        return account\n",
    "\n",
    "    account['balance'] -= amount\n",
    "    account['transactions'].append(f\"Withdrawal: {amount} PKR. New Balance: {account['balance']} PKR.\")\n",
    "    print(f\"{account['name']} withdrew {amount} PKR. New balance: {account['balance']} PKR.\")\n",
    "    \n",
    "    # Record transaction in file\n",
    "    with open(f\"{account['name']}_transactions.txt\", 'a') as file:\n",
    "        file.write(f\"Withdrawal: {amount} PKR. New Balance: {account['balance']} PKR.\\n\")\n",
    "    \n",
    "    return account\n",
    "\n",
    "# Function to check the balance\n",
    "def check_balance(account):\n",
    "    print(f\"{account['name']}'s current balance: {account['balance']} PKR.\")\n",
    "    return account['balance']\n",
    "\n",
    "# Function to print the statement of all transactions\n",
    "def print_statement(account):\n",
    "    if not account['transactions']:\n",
    "        print(\"No transactions found.\")\n",
    "    else:\n",
    "        print(f\"Account statement for {account['name']}:\")\n",
    "        for transaction in account['transactions']:\n",
    "            print(transaction)\n",
    "\n",
    "# Function to show menu\n",
    "def show_menu():\n",
    "    print(\"\\nBanking System Menu:\")\n",
    "    print(\"1. Create Account\")\n",
    "    print(\"2. Deposit Money\")\n",
    "    print(\"3. Withdraw Money\")\n",
    "    print(\"4. Check Balance\")\n",
    "    print(\"5. Print Statement\")\n",
    "    print(\"6. Exit\")\n",
    "\n",
    "# Function to manage user input\n",
    "def manage_account():\n",
    "    while True:\n",
    "        show_menu()\n",
    "        choice = input(\"Choose an option (1-6): \")\n",
    "        \n",
    "        if choice == '1':\n",
    "            name = input(\"Enter account holder's name: \")\n",
    "            create_account(name)\n",
    "        \n",
    "        elif choice == '2':\n",
    "            name = input(\"Enter account holder's name: \")\n",
    "            if name in accounts:\n",
    "                amount = float(input(\"Enter deposit amount: \"))\n",
    "                deposit(accounts[name], amount)\n",
    "            else:\n",
    "                print(f\"Account for {name} not found.\")\n",
    "        \n",
    "        elif choice == '3':\n",
    "            name = input(\"Enter account holder's name: \")\n",
    "            if name in accounts:\n",
    "                amount = float(input(\"Enter withdrawal amount: \"))\n",
    "                withdraw(accounts[name], amount)\n",
    "            else:\n",
    "                print(f\"Account for {name} not found.\")\n",
    "        \n",
    "        elif choice == '4':\n",
    "            name = input(\"Enter account holder's name: \")\n",
    "            if name in accounts:\n",
    "                check_balance(accounts[name])\n",
    "            else:\n",
    "                print(f\"Account for {name} not found.\")\n",
    "        \n",
    "        elif choice == '5':\n",
    "            name = input(\"Enter account holder's name: \")\n",
    "            if name in accounts:\n",
    "                print_statement(accounts[name])\n",
    "            else:\n",
    "                print(f\"Account for {name} not found.\")\n",
    "        \n",
    "        elif choice == '6':\n",
    "            print(\"Exiting the banking system.\")\n",
    "            break\n",
    "        \n",
    "        else:\n",
    "            print(\"Invalid choice, please try again.\")\n",
    "\n",
    "# Main entry point\n",
    "if __name__ == \"__main__\":\n",
    "    print(\"Welcome to the Banking System!\")\n",
    "    manage_account()\n"
   ]
  },
  {
   "cell_type": "code",
   "execution_count": null,
   "id": "fd1da390-c319-4626-bf10-a06511e4605c",
   "metadata": {},
   "outputs": [],
   "source": []
  }
 ],
 "metadata": {
  "kernelspec": {
   "display_name": "Python 3 (ipykernel)",
   "language": "python",
   "name": "python3"
  },
  "language_info": {
   "codemirror_mode": {
    "name": "ipython",
    "version": 3
   },
   "file_extension": ".py",
   "mimetype": "text/x-python",
   "name": "python",
   "nbconvert_exporter": "python",
   "pygments_lexer": "ipython3",
   "version": "3.12.7"
  }
 },
 "nbformat": 4,
 "nbformat_minor": 5
}
