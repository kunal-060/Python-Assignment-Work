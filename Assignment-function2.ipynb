{
 "cells": [
  {
   "cell_type": "markdown",
   "id": "418aaae7-7783-4ae0-b7ce-b6cf8bf5c0c7",
   "metadata": {},
   "source": [
    "1) You need to write a function in python that return all such numbers which are\n",
    "divisible by 7 but are not a multiple of 5, between 2000 and 3200 (both included).\n",
    "Return the obtained numbers in a comma-separated sequence on a single line."
   ]
  },
  {
   "cell_type": "code",
   "execution_count": 2,
   "id": "23a06ca8-1106-41e4-8160-d9e93cf260a4",
   "metadata": {},
   "outputs": [
    {
     "name": "stdout",
     "output_type": "stream",
     "text": [
      "2002,2009,2016,2023,2037,2044,2051,2058,2072,2079,2086,2093,2107,2114,2121,2128,2142,2149,2156,2163,2177,2184,2191,2198,2212,2219,2226,2233,2247,2254,2261,2268,2282,2289,2296,2303,2317,2324,2331,2338,2352,2359,2366,2373,2387,2394,2401,2408,2422,2429,2436,2443,2457,2464,2471,2478,2492,2499,2506,2513,2527,2534,2541,2548,2562,2569,2576,2583,2597,2604,2611,2618,2632,2639,2646,2653,2667,2674,2681,2688,2702,2709,2716,2723,2737,2744,2751,2758,2772,2779,2786,2793,2807,2814,2821,2828,2842,2849,2856,2863,2877,2884,2891,2898,2912,2919,2926,2933,2947,2954,2961,2968,2982,2989,2996,3003,3017,3024,3031,3038,3052,3059,3066,3073,3087,3094,3101,3108,3122,3129,3136,3143,3157,3164,3171,3178,3192,3199\n"
     ]
    }
   ],
   "source": [
    "def divisible_by_7_not_5():\n",
    "    result = [str(i) for i in range(2000, 3201) if i % 7 == 0 and i % 5 != 0]\n",
    "    return \",\".join(result)\n",
    "\n",
    "print(divisible_by_7_not_5())"
   ]
  },
  {
   "cell_type": "markdown",
   "id": "a899f8f2-86bd-4ec7-8e15-66608fbc0e61",
   "metadata": {},
   "source": [
    "2) You need code a function that calculates and returns the value according to the\n",
    "given formula:\n",
    "P = Square root of [(2 * A * B)/C]\n",
    "Following are the fixed values of A and B:\n",
    "A is 50. B is 30.\n",
    "The values of the literal C should be taken as console input to your program in a\n",
    "comma-separated sequence.\n",
    "Example\n",
    "Let us assume the following comma separated input sequence is given to the\n",
    "program:\n",
    "100,150,180\n",
    "The output of the program should be:\n",
    "18,22,24"
   ]
  },
  {
   "cell_type": "code",
   "execution_count": 11,
   "id": "49af2784-9100-471d-a567-bbbbf6fdab6d",
   "metadata": {},
   "outputs": [
    {
     "name": "stdin",
     "output_type": "stream",
     "text": [
      "Enter comma-separated values for C:  25,35,45\n"
     ]
    },
    {
     "name": "stdout",
     "output_type": "stream",
     "text": [
      "10,9,8\n"
     ]
    }
   ],
   "source": [
    "import math\n",
    "\n",
    "def calculate_value():\n",
    "    A = 50\n",
    "    B = 30\n",
    "    C_values = input(\"Enter comma-separated values for C: \").split(\",\")\n",
    "    result = []\n",
    "    for C in C_values:\n",
    "        P = math.sqrt((2 * A * B) / int(C))\n",
    "        result.append(str(int(P)))\n",
    "    return \",\".join(result)\n",
    "\n",
    "print(calculate_value())"
   ]
  },
  {
   "cell_type": "markdown",
   "id": "0d8349dc-1020-4e49-b061-876c569e66f1",
   "metadata": {},
   "source": [
    "3) You need to write a function that takes a comma separated sequence of words as\n",
    "input and prints the words in a comma-separated sequence after sorting them\n",
    "alphabetically.\n",
    "Suppose the following input is supplied to the program:\n",
    "without,hello,bag,world\n",
    "Then, the output should be:\n",
    "bag,hello,without,world"
   ]
  },
  {
   "cell_type": "code",
   "execution_count": 13,
   "id": "480eb69e-f643-47d1-a484-9bbad0e96fbb",
   "metadata": {},
   "outputs": [
    {
     "name": "stdin",
     "output_type": "stream",
     "text": [
      "Enter comma-separated words:  apple,book,cat,flag,dog,ball\n"
     ]
    },
    {
     "name": "stdout",
     "output_type": "stream",
     "text": [
      "apple,ball,book,cat,dog,flag\n"
     ]
    }
   ],
   "source": [
    "def sort_words():\n",
    "    words = input(\"Enter comma-separated words: \").split(\",\")\n",
    "    words.sort()\n",
    "    return \",\".join(words)\n",
    "\n",
    "print(sort_words())"
   ]
  },
  {
   "cell_type": "markdown",
   "id": "1d569f32-c813-4773-a515-a1f3b02d4bd1",
   "metadata": {},
   "source": [
    "4) You need to write a program that takes sequence of lines as input and prints the\n",
    "lines after making all characters in the sentence capitalized.\n",
    "Suppose the following input is supplied to the program:\n",
    "Hello world\n",
    "Practice makes perfect\n",
    "Then, the output should be:\n",
    "HELLO WORLD\n",
    "PRACTICE MAKES PERFECT"
   ]
  },
  {
   "cell_type": "code",
   "execution_count": 18,
   "id": "0ff15399-c8cd-4470-b2d7-4a1a417024f8",
   "metadata": {},
   "outputs": [
    {
     "name": "stdin",
     "output_type": "stream",
     "text": [
      "Enter a sentence (or press Enter to stop):  hello world\n"
     ]
    },
    {
     "name": "stdout",
     "output_type": "stream",
     "text": [
      "HELLO WORLD\n"
     ]
    },
    {
     "name": "stdin",
     "output_type": "stream",
     "text": [
      "Enter a sentence (or press Enter to stop):  practice makes perfect\n"
     ]
    },
    {
     "name": "stdout",
     "output_type": "stream",
     "text": [
      "PRACTICE MAKES PERFECT\n"
     ]
    },
    {
     "name": "stdin",
     "output_type": "stream",
     "text": [
      "Enter a sentence (or press Enter to stop):  \n"
     ]
    }
   ],
   "source": [
    "def capitalize_sentences():\n",
    "    while True:\n",
    "        try:\n",
    "            line = input(\"Enter a sentence (or press Enter to stop): \")\n",
    "            if not line:\n",
    "                break\n",
    "            print(line.upper())\n",
    "        except EOFError:\n",
    "            break\n",
    "\n",
    "capitalize_sentences()"
   ]
  },
  {
   "cell_type": "markdown",
   "id": "aa35d37f-4fdf-4239-bbb5-06f1d1bff63b",
   "metadata": {},
   "source": [
    "5) You need to write a function that counts the number of vowels in a given\n",
    "sentence as input from console.\n",
    "Suppose the following input is supplied to the program:\n",
    "Hello world\n",
    "Practice makes perfect\n",
    "Then, the output should be:\n",
    "a appeared 2 times\n",
    "e appeared 5 times\n",
    "i appeared 1 time\n",
    "o appeared 2 times\n",
    "u appeared 0 time\n",
    "PRACTICE MAKES PERFECT"
   ]
  },
  {
   "cell_type": "code",
   "execution_count": 21,
   "id": "5497b557-cc01-462b-b54a-80d8e387b6a9",
   "metadata": {},
   "outputs": [
    {
     "name": "stdin",
     "output_type": "stream",
     "text": [
      "Enter a sentence:  practice makes perfect\n"
     ]
    },
    {
     "name": "stdout",
     "output_type": "stream",
     "text": [
      "a appeared 2 times\n",
      "e appeared 4 times\n",
      "i appeared 1 times\n",
      "o appeared 0 times\n",
      "u appeared 0 times\n"
     ]
    }
   ],
   "source": [
    "def count_vowels():\n",
    "    sentence = input(\"Enter a sentence: \").lower()\n",
    "    vowels = \"aeiou\"\n",
    "    for vowel in vowels:\n",
    "        count = sentence.count(vowel)\n",
    "        print(f\"{vowel} appeared {count} times\")\n",
    "\n",
    "count_vowels()\n"
   ]
  },
  {
   "cell_type": "markdown",
   "id": "8d1343db-7e3f-4abf-8664-fca01d22fb4e",
   "metadata": {},
   "source": [
    "6) You need write a function that traces and makes a list of all such numbers\n",
    "from1000 to 3000 in which all the digits are even numbers."
   ]
  },
  {
   "cell_type": "code",
   "execution_count": 24,
   "id": "6ee9c108-33be-4e44-bdea-d3a391c1c3a6",
   "metadata": {},
   "outputs": [
    {
     "name": "stdout",
     "output_type": "stream",
     "text": [
      "2000,2002,2004,2006,2008,2020,2022,2024,2026,2028,2040,2042,2044,2046,2048,2060,2062,2064,2066,2068,2080,2082,2084,2086,2088,2200,2202,2204,2206,2208,2220,2222,2224,2226,2228,2240,2242,2244,2246,2248,2260,2262,2264,2266,2268,2280,2282,2284,2286,2288,2400,2402,2404,2406,2408,2420,2422,2424,2426,2428,2440,2442,2444,2446,2448,2460,2462,2464,2466,2468,2480,2482,2484,2486,2488,2600,2602,2604,2606,2608,2620,2622,2624,2626,2628,2640,2642,2644,2646,2648,2660,2662,2664,2666,2668,2680,2682,2684,2686,2688,2800,2802,2804,2806,2808,2820,2822,2824,2826,2828,2840,2842,2844,2846,2848,2860,2862,2864,2866,2868,2880,2882,2884,2886,2888\n"
     ]
    }
   ],
   "source": [
    "def even_digit_numbers():\n",
    "    result = [str(i) for i in range(1000, 3001) if all(int(digit) % 2 == 0 for digit in str(i))]\n",
    "    return \",\".join(result)\n",
    "\n",
    "print(even_digit_numbers())\n"
   ]
  },
  {
   "cell_type": "markdown",
   "id": "e24014db-64c0-444d-8291-4afeb15092a1",
   "metadata": {},
   "source": [
    "7) You need to write a code which accepts a sequence of comma separated 4 digit\n",
    "binary numbers as its input and then check whether they are divisible by 5 or not.\n",
    "The numbers that are divisible by 5 are to be printed in a comma separated\n",
    "sequence.\n",
    "Example:\n",
    "0100,0011,1010,1001\n",
    "Then the output should be:\n",
    "1010\n",
    "Reference: https://www.datacamp.com/.../python-data-type-conversion"
   ]
  },
  {
   "cell_type": "code",
   "execution_count": 27,
   "id": "51365b15-8b15-4abc-a0fd-3aa30ab5d4dc",
   "metadata": {},
   "outputs": [
    {
     "name": "stdin",
     "output_type": "stream",
     "text": [
      "Enter comma-separated binary numbers:  0100,0011,1010,1001\n"
     ]
    },
    {
     "name": "stdout",
     "output_type": "stream",
     "text": [
      "1010\n"
     ]
    }
   ],
   "source": [
    "def check_binary_divisible_by_5():\n",
    "    binary_numbers = input(\"Enter comma-separated binary numbers: \").split(\",\")\n",
    "    result = []\n",
    "    for binary in binary_numbers:\n",
    "        decimal = int(binary, 2)\n",
    "        if decimal % 5 == 0:\n",
    "            result.append(binary)\n",
    "    return \",\".join(result)\n",
    "\n",
    "print(check_binary_divisible_by_5())\n"
   ]
  },
  {
   "cell_type": "markdown",
   "id": "986aa279-5ae2-49fc-acad-a7d580cc7140",
   "metadata": {},
   "source": [
    "8) Write a program that accepts a sentence and calculate the number of letters and\n",
    "digits.\n",
    "Suppose the following input is supplied to the program:\n",
    "hello world! 123\n",
    "Then, the output should be:\n",
    "LETTERS 10\n",
    "DIGITS 3\n"
   ]
  },
  {
   "cell_type": "code",
   "execution_count": 31,
   "id": "a6ddd393-8edd-4317-8f1e-f53bc861f77a",
   "metadata": {},
   "outputs": [
    {
     "name": "stdin",
     "output_type": "stream",
     "text": [
      "Enter a sentence:  hello world! 123\n"
     ]
    },
    {
     "name": "stdout",
     "output_type": "stream",
     "text": [
      "LETTERS 10\n",
      "DIGITS 3\n"
     ]
    }
   ],
   "source": [
    "def count_letters_and_digits():\n",
    "    sentence = input(\"Enter a sentence: \")\n",
    "    letters = sum(c.isalpha() for c in sentence)\n",
    "    digits = sum(c.isdigit() for c in sentence)\n",
    "    print(f\"LETTERS {letters}\")\n",
    "    print(f\"DIGITS {digits}\")\n",
    "\n",
    "count_letters_and_digits()"
   ]
  },
  {
   "cell_type": "code",
   "execution_count": null,
   "id": "d2e68af0-ca71-441c-818f-843666613246",
   "metadata": {},
   "outputs": [],
   "source": []
  }
 ],
 "metadata": {
  "kernelspec": {
   "display_name": "Python 3 (ipykernel)",
   "language": "python",
   "name": "python3"
  },
  "language_info": {
   "codemirror_mode": {
    "name": "ipython",
    "version": 3
   },
   "file_extension": ".py",
   "mimetype": "text/x-python",
   "name": "python",
   "nbconvert_exporter": "python",
   "pygments_lexer": "ipython3",
   "version": "3.12.7"
  }
 },
 "nbformat": 4,
 "nbformat_minor": 5
}
