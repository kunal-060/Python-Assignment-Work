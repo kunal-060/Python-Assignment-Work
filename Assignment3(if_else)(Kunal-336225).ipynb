{
 "cells": [
  {
   "cell_type": "markdown",
   "id": "20e89a34-8030-4c5f-a03e-72097b95d6b2",
   "metadata": {},
   "source": [
    "## A) Discounts and Pricing"
   ]
  },
  {
   "cell_type": "markdown",
   "id": "b90e7979-6bc6-4bfb-9160-cd342f65c89d",
   "metadata": {},
   "source": [
    "1.Check Discount Eligibility\n",
    "Write a program to check if a customer is eligible for a discount. If the total purchase is more than $100, apply a 10% discount and display the final price. Otherwise, display the total price as it is."
   ]
  },
  {
   "cell_type": "code",
   "execution_count": 1,
   "id": "bd7daae6-a04f-46e0-ae4a-ad6911fd7da9",
   "metadata": {},
   "outputs": [
    {
     "name": "stdin",
     "output_type": "stream",
     "text": [
      "Please enter your total purchasing value: 56\n"
     ]
    },
    {
     "name": "stdout",
     "output_type": "stream",
     "text": [
      "Final price will be 56.0\n"
     ]
    }
   ],
   "source": [
    "total_purchase = float(input(\"Please enter your total purchasing value:\"))\n",
    "\n",
    "if total_purchase > 100:\n",
    "    final_price = total_purchase - total_purchase * 0.10\n",
    "    print(f\"Final price after discount will be {final_price}\")\n",
    "else:\n",
    "    print(f\"Final price will be {total_purchase}\")\n",
    "                       "
   ]
  },
  {
   "cell_type": "markdown",
   "id": "177bfb9c-e0d3-4613-9a9d-2f461741ccce",
   "metadata": {},
   "source": [
    "2.Calculate Bulk Discount\n",
    "If a customer buys more than 5 items, apply a 15% discount on the total price. Otherwise, no discount is applied. Display the total price."
   ]
  },
  {
   "cell_type": "code",
   "execution_count": 2,
   "id": "ba01e04c-a552-453b-93ea-298c8069b158",
   "metadata": {},
   "outputs": [
    {
     "name": "stdin",
     "output_type": "stream",
     "text": [
      "Please enter the number of items you are purchasing: 2\n",
      "Please enter the price per item: 34\n"
     ]
    },
    {
     "name": "stdout",
     "output_type": "stream",
     "text": [
      "The total price 68.0\n"
     ]
    }
   ],
   "source": [
    "num_items = int(input(\"Please enter the number of items you are purchasing:\"))\n",
    "price_item = float(input(\"Please enter the price per item:\"))\n",
    "total_purchase = num_items * price_item\n",
    "if num_items > 5:\n",
    "    final_price = total_purchase - total_purchase * 0.15\n",
    "    print(f\"The total price after discount {final_price}\")\n",
    "else:\n",
    "    print(f\"The total price {total_purchase}\")\n",
    "\n",
    "    \n",
    "\n",
    "            "
   ]
  },
  {
   "cell_type": "markdown",
   "id": "6475b008-b7c6-4c0c-aaa5-fdf6969c257a",
   "metadata": {},
   "source": [
    "3.Membership Discount\n",
    "Check if the customer is a member (is_member = True). Members get a 20% discount; non-members get a 5% discount. Calculate and print the discounted price."
   ]
  },
  {
   "cell_type": "code",
   "execution_count": 3,
   "id": "67a478ac-959a-4823-aade-8ed8359ae446",
   "metadata": {},
   "outputs": [
    {
     "name": "stdin",
     "output_type": "stream",
     "text": [
      "Are you a member? (yes/no):  no\n",
      "Please enter your total purchase value: 78\n"
     ]
    },
    {
     "name": "stdout",
     "output_type": "stream",
     "text": [
      "Congratulations, You got 5% discount, the discounted price is 74.1\n"
     ]
    }
   ],
   "source": [
    "is_member = input(\"Are you a member? (yes/no): \").strip().lower() == \"yes\"\n",
    "\n",
    "total_purchase = float(input(\"Please enter your total purchase value:\"))\n",
    "\n",
    "if is_member:\n",
    "    discounted_rate = total_purchase - 0.20 * total_purchase\n",
    "    print(f\"Congratulations, You got 20% discount, the discounted price is {discounted_rate}\")\n",
    "else:\n",
    "    discounted_rate = total_purchase - 0.05 * total_purchase\n",
    "    print(f\"Congratulations, You got 5% discount, the discounted price is {discounted_rate}\")\n",
    "    "
   ]
  },
  {
   "cell_type": "markdown",
   "id": "2c6434b9-a780-4e96-a003-2280639ada85",
   "metadata": {},
   "source": [
    "4.Seasonal Sale\n",
    "If today is a holiday (is_holiday = True), apply a 25% discount; otherwise, apply a 10% discount. Calculate the price after discount."
   ]
  },
  {
   "cell_type": "code",
   "execution_count": 4,
   "id": "f7b86d82-4973-4c26-a054-9c37fdf391aa",
   "metadata": {},
   "outputs": [
    {
     "name": "stdin",
     "output_type": "stream",
     "text": [
      "Are today holiday? (yes/no):  yes\n",
      "Please enter your total purchase value: 78\n"
     ]
    },
    {
     "name": "stdout",
     "output_type": "stream",
     "text": [
      "Congratulations, You got 25% discount, the discounted price is 58.5\n"
     ]
    }
   ],
   "source": [
    "is_holiday = input(\"Are today holiday? (yes/no): \").strip().lower() == \"yes\"\n",
    "\n",
    "total_purchase = float(input(\"Please enter your total purchase value:\"))\n",
    "\n",
    "if is_holiday:\n",
    "    discounted_rate = total_purchase - 0.25 * total_purchase\n",
    "    print(f\"Congratulations, You got 25% discount, the discounted price is {discounted_rate}\")\n",
    "else:\n",
    "    discounted_rate = total_purchase - 0.10 * total_purchase\n",
    "    print(f\"Congratulations, You got 10% discount, the discounted price is {discounted_rate}\")"
   ]
  },
  {
   "cell_type": "markdown",
   "id": "c8a48c5a-8c0e-4272-ae22-b2efbdaa432e",
   "metadata": {},
   "source": [
    "5. Buy-One-Get-One-Free\n",
    "If a customer buys an even number of items, they get half of them for free. Otherwise, they pay for all. Calculate the number of items the customer has to pay for."
   ]
  },
  {
   "cell_type": "code",
   "execution_count": 5,
   "id": "f8a6ab06-f920-429d-9c8c-5f7e0544392d",
   "metadata": {},
   "outputs": [
    {
     "name": "stdin",
     "output_type": "stream",
     "text": [
      "Please enter the number of items you have purchase: 6\n"
     ]
    },
    {
     "name": "stdout",
     "output_type": "stream",
     "text": [
      "You have to pay for half i.e 3.0\n"
     ]
    }
   ],
   "source": [
    "items = int(input(\"Please enter the number of items you have purchase:\"))\n",
    "if items%2 == 0 :\n",
    "    half_items = items/2\n",
    "    print(f\"You have to pay for half i.e {half_items}\")\n",
    "else:\n",
    "    print(f\"You have to pay for all i.e {items}\")"
   ]
  },
  {
   "cell_type": "markdown",
   "id": "747f76ea-0307-412e-a2fd-07e42df5200d",
   "metadata": {},
   "source": [
    "## B) Tax Calculations\n"
   ]
  },
  {
   "cell_type": "markdown",
   "id": "dac887fb-85d9-4a85-ad93-3f87d81a3388",
   "metadata": {},
   "source": [
    "6.Sales Tax\n",
    "If the price of an item is greater than $500, apply a luxury tax of 15%. Otherwise, apply a standard tax of 8%. Display the total price after tax."
   ]
  },
  {
   "cell_type": "code",
   "execution_count": 6,
   "id": "35339ed1-8181-4d79-8fed-d22a93d1db52",
   "metadata": {},
   "outputs": [
    {
     "name": "stdin",
     "output_type": "stream",
     "text": [
      "Please enter price of an item: 7\n"
     ]
    },
    {
     "name": "stdout",
     "output_type": "stream",
     "text": [
      "Total price of standard tax is 6.4399999999999995\n"
     ]
    }
   ],
   "source": [
    "price_item = float(input(\"Please enter price of an item:\"))\n",
    "if price_item > 500:\n",
    "    luxury_tax = 0.15\n",
    "    price_after_tax = price_item - luxury_tax * price_item\n",
    "    print(f\"Total price of luxury tax is {price_after_tax}\")\n",
    "else:\n",
    "    standard_tax = 0.08\n",
    "    price_after_tax = price_item - standard_tax * price_item\n",
    "    print(f\"Total price of standard tax is {price_after_tax}\")\n",
    "    \n",
    "   "
   ]
  },
  {
   "cell_type": "markdown",
   "id": "03416c51-f897-45a7-a3f6-60734fbe5b8a",
   "metadata": {},
   "source": [
    "7.Income Tax\n",
    "If a person's annual income is above $50,000, they pay 20% tax. Otherwise, they pay 10%. Calculate and display the tax amount."
   ]
  },
  {
   "cell_type": "code",
   "execution_count": 7,
   "id": "5639e71e-786a-4ae3-b480-efba605cc665",
   "metadata": {},
   "outputs": [
    {
     "name": "stdin",
     "output_type": "stream",
     "text": [
      "Please enter your annual income: 78665\n"
     ]
    },
    {
     "name": "stdout",
     "output_type": "stream",
     "text": [
      "Tax amount is 15733.0\n"
     ]
    }
   ],
   "source": [
    "annual_income = float(input(\"Please enter your annual income:\"))\n",
    "if annual_income > 50000:\n",
    "    tax_amount = 0.20*annual_income\n",
    "    print(f\"Tax amount is {tax_amount}\")\n",
    "else:\n",
    "    tax_amount = 0.10*annual_income\n",
    "    print(f\"Tax amount is {tax_amount}\")\n",
    "    \n",
    "   "
   ]
  },
  {
   "cell_type": "markdown",
   "id": "29c10d6b-f7e7-4c98-a771-b24f54af8eca",
   "metadata": {},
   "source": [
    "8.Tax Bracket\n",
    "Write a program to categorize a person into tax brackets:\n",
    "Income < $30,000: \"Low Tax\"\n",
    "$30,000 ≤ Income < $100,000: \"Medium Tax\"\n",
    "Income ≥ $100,000: \"High Tax\""
   ]
  },
  {
   "cell_type": "code",
   "execution_count": 8,
   "id": "af791a89-a237-4ef9-95e4-6caf15eb6bcc",
   "metadata": {},
   "outputs": [
    {
     "name": "stdin",
     "output_type": "stream",
     "text": [
      "Please enter your income: 878\n"
     ]
    },
    {
     "name": "stdout",
     "output_type": "stream",
     "text": [
      "Low Tax\n"
     ]
    }
   ],
   "source": [
    "income = float(input(\"Please enter your income:\"))\n",
    "if income < 30000:\n",
    "    print(\"Low Tax\")\n",
    "elif 30000 <= income < 100000: \n",
    "    print(\"Medium Tax\")\n",
    "elif income >= 100000:\n",
    "    print(\"High Tax\")\n",
    "   "
   ]
  },
  {
   "cell_type": "markdown",
   "id": "02d72ac0-4e48-4dd3-b09f-f9ad1b3501d6",
   "metadata": {},
   "source": [
    "9.VAT Calculation\n",
    "If the item is marked as essential (is_essential = True), apply a VAT of 5%. Otherwise, apply a VAT of 12%. Display the final price."
   ]
  },
  {
   "cell_type": "code",
   "execution_count": 9,
   "id": "26942eca-c9d9-4f91-84c9-445b37809e23",
   "metadata": {},
   "outputs": [
    {
     "name": "stdin",
     "output_type": "stream",
     "text": [
      "Is item an essential? (yes/no):  yes\n",
      "Please enter an item price: 5676\n"
     ]
    },
    {
     "name": "stdout",
     "output_type": "stream",
     "text": [
      "You got 5% VAT, the final price is 5959.8\n"
     ]
    }
   ],
   "source": [
    "is_essential = input(\"Is item an essential? (yes/no): \").strip().lower() == \"yes\"\n",
    "\n",
    "item_price= float(input(\"Please enter an item price:\"))\n",
    "\n",
    "if is_essential:\n",
    "    VAT = 0.05\n",
    "    final_price= item_price * (1 + VAT)\n",
    "    print(f\"You got 5% VAT, the final price is {final_price}\")\n",
    "else:\n",
    "    VAT = 0.12\n",
    "    final_price= item_price * (1 + VAT)\n",
    "    print(f\"You got 12% VAT, the final price is {final_price}\")"
   ]
  },
  {
   "cell_type": "markdown",
   "id": "1dde20dc-3972-4e49-b29f-1094d2b79fe9",
   "metadata": {},
   "source": [
    "10.Tax-Free Day\n",
    "If today is a tax-free day (tax_free = True), display the original price. Otherwise, add a 7% tax"
   ]
  },
  {
   "cell_type": "code",
   "execution_count": 10,
   "id": "ba745d43-a47b-4ef8-ae6a-d059aecdc291",
   "metadata": {},
   "outputs": [
    {
     "name": "stdin",
     "output_type": "stream",
     "text": [
      "Are today tax free day? (yes/no):  no\n",
      "Please enter your total purchase value: 7643\n"
     ]
    },
    {
     "name": "stdout",
     "output_type": "stream",
     "text": [
      "You got 7% tax, the final price is 8178.01\n"
     ]
    }
   ],
   "source": [
    "is_taxfree_day = input(\"Are today tax free day? (yes/no): \").strip().lower() == \"yes\"\n",
    "\n",
    "total_purchase = float(input(\"Please enter your total purchase value:\"))\n",
    "\n",
    "if is_taxfree_day:\n",
    "    print(f\"Congratulations, today is tax free day, no got no tax, the final price is {total_purchase}\")\n",
    "else:\n",
    "    final_price = total_purchase + 0.07 * total_purchase\n",
    "    print(f\"You got 7% tax, the final price is {final_price}\")"
   ]
  },
  {
   "cell_type": "markdown",
   "id": "3190806f-76e3-48c0-9be3-aee061b2f80a",
   "metadata": {},
   "source": [
    "## C) Shopping and Billing"
   ]
  },
  {
   "cell_type": "markdown",
   "id": "8b4d8027-b813-4597-8f6b-0af22c82e152",
   "metadata": {},
   "source": [
    "11.Free Shipping\n",
    "If the total purchase amount is more than $50, offer free shipping; otherwise, charge $5 for shipping. Display the total amount including shipping."
   ]
  },
  {
   "cell_type": "code",
   "execution_count": 11,
   "id": "1b998c49-1a08-4f6f-893d-bccc62fb2f20",
   "metadata": {},
   "outputs": [
    {
     "name": "stdin",
     "output_type": "stream",
     "text": [
      "Please enter your total purchase value:  5853\n"
     ]
    },
    {
     "name": "stdout",
     "output_type": "stream",
     "text": [
      "Congratulations! You get free shipping. Total amount will be 5853.0\n"
     ]
    }
   ],
   "source": [
    "total_purchase = float(input(\"Please enter your total purchase value: \"))\n",
    "\n",
    "if total_purchase > 50:\n",
    "    shipping = 0\n",
    "    print(f\"Congratulations! You get free shipping. Total amount will be {total_purchase}\")\n",
    "else:\n",
    "    shipping = 5\n",
    "    print(f\"Shipping fee of $5 will be added. Total amount will be {total_purchase + shipping}\")\n"
   ]
  },
  {
   "cell_type": "markdown",
   "id": "f7623903-26fa-40f6-beca-38acba0c46bd",
   "metadata": {},
   "source": [
    "12.Discount Code\n",
    "If a customer enters the correct discount code (DISCOUNT10), apply a 10% discount. Otherwise, charge the full amount."
   ]
  },
  {
   "cell_type": "code",
   "execution_count": 12,
   "id": "52030fe9-ec32-4eef-8b74-cf93c992be2f",
   "metadata": {},
   "outputs": [
    {
     "name": "stdin",
     "output_type": "stream",
     "text": [
      "Please enter your total purchase value:  477\n"
     ]
    },
    {
     "name": "stdout",
     "output_type": "stream",
     "text": [
      "Final price after 20% discount will be 381.6\n"
     ]
    }
   ],
   "source": [
    "total_purchase = float(input(\"Please enter your total purchase value: \"))\n",
    "\n",
    "if total_purchase > 100:\n",
    "    final_price = total_purchase - total_purchase * 0.20\n",
    "    print(f\"Final price after 20% discount will be {final_price}\")\n",
    "elif total_purchase > 50:\n",
    "    final_price = total_purchase - total_purchase * 0.10\n",
    "    print(f\"Final price after 10% discount will be {final_price}\")\n",
    "else:\n",
    "    print(f\"No discount applied. Final price will be {total_purchase}\")\n"
   ]
  },
  {
   "cell_type": "markdown",
   "id": "47890985-b443-4a5b-b581-747364dd928d",
   "metadata": {},
   "source": [
    "13.Tiered Discounts\n",
    "Apply discounts based on the total price:\n",
    "$0–$50: No discount.\n",
    "$50–$100: 10% discount.\n",
    "Over $100: 20% discount."
   ]
  },
  {
   "cell_type": "code",
   "execution_count": 13,
   "id": "a80ec1a0-29f5-421c-adec-048619bf306d",
   "metadata": {},
   "outputs": [
    {
     "name": "stdin",
     "output_type": "stream",
     "text": [
      "Enter the total price:  8997\n"
     ]
    },
    {
     "name": "stdout",
     "output_type": "stream",
     "text": [
      "Final price after discount: $7197.60\n"
     ]
    }
   ],
   "source": [
    "total_price = float(input(\"Enter the total price: \"))\n",
    "\n",
    "if total_price <= 50:\n",
    "    discount = 0\n",
    "elif total_price <= 100:\n",
    "    discount = total_price * 0.10\n",
    "else:\n",
    "    discount = total_price * 0.20\n",
    "\n",
    "final_price = total_price - discount\n",
    "print(f\"Final price after discount: ${final_price:.2f}\")\n"
   ]
  },
  {
   "cell_type": "markdown",
   "id": "43b5c325-1325-48fa-9298-c342a32c27d9",
   "metadata": {},
   "source": [
    "14.Minimum Purchase Requirement\n",
    "If the total amount is less than $20, display a message: \"Minimum purchase of $20 is required.\" Otherwise, display the total amount."
   ]
  },
  {
   "cell_type": "code",
   "execution_count": 14,
   "id": "2df24375-5293-4791-8879-a4d4b3dc9879",
   "metadata": {},
   "outputs": [
    {
     "name": "stdin",
     "output_type": "stream",
     "text": [
      "Enter the total amount:  68886\n"
     ]
    },
    {
     "name": "stdout",
     "output_type": "stream",
     "text": [
      "Total amount: $68886.00\n"
     ]
    }
   ],
   "source": [
    "total_amount = float(input(\"Enter the total amount: \"))\n",
    "\n",
    "if total_amount < 20:\n",
    "    print(\"Minimum purchase of $20 is required.\")\n",
    "else:\n",
    "    print(f\"Total amount: ${total_amount:.2f}\")\n"
   ]
  },
  {
   "cell_type": "markdown",
   "id": "25b2b717-6e04-45b8-8e03-264089f9639d",
   "metadata": {},
   "source": [
    "15.Loyalty Points\n",
    "If a customer is a loyal member (is_loyal = True), they earn double loyalty points for their purchase. Otherwise, they earn standard points."
   ]
  },
  {
   "cell_type": "markdown",
   "id": "5af00eb8-ea96-4d16-b05b-69f899998357",
   "metadata": {},
   "source": [
    "###### is_loyal = input(\"Is the customer a loyal member? (yes/no): \").strip().lower() == \"yes\"\n",
    "purchase_value = float(input(\"Enter the purchase value: \"))\n",
    "\n",
    "loyalty_points = purchase_value * (2 if is_loyal else 1)\n",
    "print(f\"Loyalty points earned: {loyalty_points}\")\n"
   ]
  },
  {
   "cell_type": "markdown",
   "id": "8cca7c2a-544f-4fdb-b8cd-e1fb0d0d50ec",
   "metadata": {},
   "source": [
    "## D) Travel and Tickets"
   ]
  },
  {
   "cell_type": "markdown",
   "id": "76fe1347-6431-4a16-b306-fc83f6d3e4b7",
   "metadata": {},
   "source": [
    "16.Travel Discount\n",
    "If a person is traveling more than 500 miles, offer a 20% discount on ticket price. Otherwise, charge the full amount."
   ]
  },
  {
   "cell_type": "code",
   "execution_count": 16,
   "id": "459806a8-1ad2-43df-8fbd-60d2103ea69f",
   "metadata": {},
   "outputs": [
    {
     "name": "stdin",
     "output_type": "stream",
     "text": [
      "Enter the distance traveled (in miles):  67\n",
      "Enter the ticket price:  8\n"
     ]
    },
    {
     "name": "stdout",
     "output_type": "stream",
     "text": [
      "Final ticket price: $8.00\n"
     ]
    }
   ],
   "source": [
    "distance = float(input(\"Enter the distance traveled (in miles): \"))\n",
    "ticket_price = float(input(\"Enter the ticket price: \"))\n",
    "\n",
    "if distance > 500:\n",
    "    final_price = ticket_price - ticket_price * 0.20\n",
    "else:\n",
    "    final_price = ticket_price\n",
    "\n",
    "print(f\"Final ticket price: ${final_price:.2f}\")\n"
   ]
  },
  {
   "cell_type": "markdown",
   "id": "17f3f844-3683-486f-a31c-dc30e3e68ba9",
   "metadata": {},
   "source": [
    "17.Child or Senior Discount\n",
    "If a passenger is under 12 or over 60 years old, apply a 15% discount on the ticket price. Otherwise, charge the full price."
   ]
  },
  {
   "cell_type": "code",
   "execution_count": 17,
   "id": "d0eaf50b-0c88-4f0d-8a28-d914ef004c4b",
   "metadata": {},
   "outputs": [
    {
     "name": "stdin",
     "output_type": "stream",
     "text": [
      "Enter the passenger's age:  45\n",
      "Enter the ticket price:  56\n"
     ]
    },
    {
     "name": "stdout",
     "output_type": "stream",
     "text": [
      "Final ticket price: $56.00\n"
     ]
    }
   ],
   "source": [
    "age = int(input(\"Enter the passenger's age: \"))\n",
    "ticket_price = float(input(\"Enter the ticket price: \"))\n",
    "\n",
    "if age < 12 or age > 60:\n",
    "    final_price = ticket_price - ticket_price * 0.15\n",
    "else:\n",
    "    final_price = ticket_price\n",
    "\n",
    "print(f\"Final ticket price: ${final_price:.2f}\")\n"
   ]
  },
  {
   "cell_type": "markdown",
   "id": "695ff196-e579-46d8-a78c-c3a1425b8abe",
   "metadata": {},
   "source": [
    "18.Ticket Type Pricing\n",
    "If the ticket is for a weekend (is_weekend = True), add a 10% surcharge. Otherwise, charge the standard price."
   ]
  },
  {
   "cell_type": "code",
   "execution_count": 18,
   "id": "d6522f1f-0061-40b0-82d5-838f1425627b",
   "metadata": {},
   "outputs": [
    {
     "name": "stdin",
     "output_type": "stream",
     "text": [
      "Is the ticket for the weekend? (yes/no):  no\n",
      "Enter the ticket price:  98\n"
     ]
    },
    {
     "name": "stdout",
     "output_type": "stream",
     "text": [
      "Final ticket price: $98.00\n"
     ]
    }
   ],
   "source": [
    "is_weekend = input(\"Is the ticket for the weekend? (yes/no): \").strip().lower() == \"yes\"\n",
    "ticket_price = float(input(\"Enter the ticket price: \"))\n",
    "\n",
    "if is_weekend:\n",
    "    final_price = ticket_price + ticket_price * 0.10\n",
    "else:\n",
    "    final_price = ticket_price\n",
    "\n",
    "print(f\"Final ticket price: ${final_price:.2f}\")\n"
   ]
  },
  {
   "cell_type": "markdown",
   "id": "d43cec1a-04ca-4726-b62a-514b3623ea0b",
   "metadata": {},
   "source": [
    "19.Baggage Fee\n",
    "If the total baggage weight is over 20kg, charge $10 per extra kilogram. Otherwise, no extra fee."
   ]
  },
  {
   "cell_type": "code",
   "execution_count": 19,
   "id": "62e71165-2b7c-44ea-a34e-24c0a9645f3b",
   "metadata": {},
   "outputs": [
    {
     "name": "stdin",
     "output_type": "stream",
     "text": [
      "Enter the total baggage weight (in kg):  78\n"
     ]
    },
    {
     "name": "stdout",
     "output_type": "stream",
     "text": [
      "Baggage fee: $580.00\n"
     ]
    }
   ],
   "source": [
    "baggage_weight = float(input(\"Enter the total baggage weight (in kg): \"))\n",
    "extra_weight = baggage_weight - 20\n",
    "\n",
    "if extra_weight > 0:\n",
    "    extra_fee = extra_weight * 10\n",
    "else:\n",
    "    extra_fee = 0\n",
    "\n",
    "print(f\"Baggage fee: ${extra_fee:.2f}\")\n"
   ]
  },
  {
   "cell_type": "markdown",
   "id": "b088835c-0736-4712-9a9b-ed64e4b1ab4c",
   "metadata": {},
   "source": [
    "20.Early Bird Discount\n",
    "If a ticket is booked more than 30 days in advance, apply a 10% discount. Otherwise, charge the full price."
   ]
  },
  {
   "cell_type": "code",
   "execution_count": 20,
   "id": "325b70a5-08a0-44e7-8d74-8305f232eb2f",
   "metadata": {},
   "outputs": [
    {
     "name": "stdin",
     "output_type": "stream",
     "text": [
      "Enter the number of days before travel:  4\n",
      "Enter the ticket price:  78\n"
     ]
    },
    {
     "name": "stdout",
     "output_type": "stream",
     "text": [
      "Final ticket price: $78.00\n"
     ]
    }
   ],
   "source": [
    "days_in_advance = int(input(\"Enter the number of days before travel: \"))\n",
    "ticket_price = float(input(\"Enter the ticket price: \"))\n",
    "\n",
    "if days_in_advance > 30:\n",
    "    final_price = ticket_price - ticket_price * 0.10\n",
    "else:\n",
    "    final_price = ticket_price\n",
    "\n",
    "print(f\"Final ticket price: ${final_price:.2f}\")\n"
   ]
  },
  {
   "cell_type": "markdown",
   "id": "9099583d-6b84-40b1-b2f6-002d9895db77",
   "metadata": {},
   "source": [
    "## E) Grades and Performance"
   ]
  },
  {
   "cell_type": "markdown",
   "id": "4001a3ec-4c9e-478f-81f7-0134b9650566",
   "metadata": {},
   "source": [
    "21.Pass or Fail\n",
    "If a student scores 40 or more, print \"Pass\". Otherwise, print \"Fail\"."
   ]
  },
  {
   "cell_type": "code",
   "execution_count": 21,
   "id": "12b38eb4-0d44-403d-a03f-cf8f9ae02c21",
   "metadata": {},
   "outputs": [
    {
     "name": "stdin",
     "output_type": "stream",
     "text": [
      "Enter the student's score:  69\n"
     ]
    },
    {
     "name": "stdout",
     "output_type": "stream",
     "text": [
      "Pass\n"
     ]
    }
   ],
   "source": [
    "score = float(input(\"Enter the student's score: \"))\n",
    "\n",
    "if score >= 40:\n",
    "    print(\"Pass\")\n",
    "else:\n",
    "    print(\"Fail\")\n"
   ]
  },
  {
   "cell_type": "markdown",
   "id": "3d3581c6-8e09-431d-bcf4-b67bb3f9502d",
   "metadata": {},
   "source": [
    "22.Grade Assignment\n",
    "Based on a student's score, assign grades:\n",
    "90 and above: \"A\"\n",
    "75–89: \"B\"\n",
    "50–74: \"C\"\n",
    "Below 50: \"F\""
   ]
  },
  {
   "cell_type": "code",
   "execution_count": 22,
   "id": "12c90891-6c26-4c61-8878-b3e47f5e902a",
   "metadata": {},
   "outputs": [
    {
     "name": "stdin",
     "output_type": "stream",
     "text": [
      "Enter the student's score:  56\n"
     ]
    },
    {
     "name": "stdout",
     "output_type": "stream",
     "text": [
      "Grade: C\n"
     ]
    }
   ],
   "source": [
    "score = float(input(\"Enter the student's score: \"))\n",
    "\n",
    "if score >= 90:\n",
    "    grade = \"A\"\n",
    "elif score >= 75:\n",
    "    grade = \"B\"\n",
    "elif score >= 50:\n",
    "    grade = \"C\"\n",
    "else:\n",
    "    grade = \"F\"\n",
    "\n",
    "print(f\"Grade: {grade}\")\n"
   ]
  },
  {
   "cell_type": "markdown",
   "id": "e703d532-4b3a-4105-845e-ac4f616f908d",
   "metadata": {},
   "source": [
    "23.Bonus Marks\n",
    "If a student completes all assignments, add 5 bonus marks to their score. Otherwise, no bonus marks."
   ]
  },
  {
   "cell_type": "code",
   "execution_count": 23,
   "id": "462e580d-0ca2-453c-bd20-005a6829e5fe",
   "metadata": {},
   "outputs": [
    {
     "name": "stdin",
     "output_type": "stream",
     "text": [
      "Did the student complete all assignments? (yes/no):  no\n",
      "Enter the student's score:  789\n"
     ]
    },
    {
     "name": "stdout",
     "output_type": "stream",
     "text": [
      "Final score: 789.0\n"
     ]
    }
   ],
   "source": [
    "completed_assignments = input(\"Did the student complete all assignments? (yes/no): \").strip().lower() == \"yes\"\n",
    "score = float(input(\"Enter the student's score: \"))\n",
    "\n",
    "if completed_assignments:\n",
    "    score += 5\n",
    "\n",
    "print(f\"Final score: {score}\")\n"
   ]
  },
  {
   "cell_type": "markdown",
   "id": "0b60b4d7-1cb7-4f82-ae24-c1941affd017",
   "metadata": {},
   "source": [
    "24.Attendance Eligibility\n",
    "If a student's attendance is 75% or more, they are eligible to take the exam. Otherwise, they are not.\n",
    "\n"
   ]
  },
  {
   "cell_type": "code",
   "execution_count": 24,
   "id": "307709b5-8d97-4427-820c-6cac72a0b56c",
   "metadata": {},
   "outputs": [
    {
     "name": "stdin",
     "output_type": "stream",
     "text": [
      "Enter the student's attendance percentage:  78\n"
     ]
    },
    {
     "name": "stdout",
     "output_type": "stream",
     "text": [
      "Eligible to take the exam\n"
     ]
    }
   ],
   "source": [
    "attendance = float(input(\"Enter the student's attendance percentage: \"))\n",
    "\n",
    "if attendance >= 75:\n",
    "    print(\"Eligible to take the exam\")\n",
    "else:\n",
    "    print(\"Not eligible to take the exam\")\n"
   ]
  },
  {
   "cell_type": "markdown",
   "id": "106ba8db-f917-4451-ae5e-8b529645b484",
   "metadata": {},
   "source": [
    "25.Scholarship Eligibility\n",
    "If a student's grade is \"A\" and their annual family income is below $30,000, they are eligible for a scholarship. Otherwise, they are not."
   ]
  },
  {
   "cell_type": "code",
   "execution_count": 2,
   "id": "33c164d7-a358-4c3a-ba98-dadb50df6859",
   "metadata": {},
   "outputs": [
    {
     "name": "stdin",
     "output_type": "stream",
     "text": [
      "Enter the student's grade:  A\n",
      "Enter the annual family income:  5000\n"
     ]
    },
    {
     "name": "stdout",
     "output_type": "stream",
     "text": [
      "Eligible for a scholarship\n"
     ]
    }
   ],
   "source": [
    "grade = input(\"Enter the student's grade: \").strip().upper()\n",
    "family_income = float(input(\"Enter the annual family income: \"))\n",
    "\n",
    "if grade == \"A\" and family_income < 30000:\n",
    "    print(\"Eligible for a scholarship\")\n",
    "else:\n",
    "    print(\"Not eligible for a scholarship\")\n"
   ]
  },
  {
   "cell_type": "code",
   "execution_count": null,
   "id": "1a6fb718-0b74-4cae-b9ce-06421e3739fe",
   "metadata": {},
   "outputs": [],
   "source": []
  }
 ],
 "metadata": {
  "kernelspec": {
   "display_name": "Python 3 (ipykernel)",
   "language": "python",
   "name": "python3"
  },
  "language_info": {
   "codemirror_mode": {
    "name": "ipython",
    "version": 3
   },
   "file_extension": ".py",
   "mimetype": "text/x-python",
   "name": "python",
   "nbconvert_exporter": "python",
   "pygments_lexer": "ipython3",
   "version": "3.12.7"
  }
 },
 "nbformat": 4,
 "nbformat_minor": 5
}
