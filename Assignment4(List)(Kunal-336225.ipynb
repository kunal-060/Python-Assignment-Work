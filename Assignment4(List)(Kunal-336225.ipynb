{
 "cells": [
  {
   "cell_type": "markdown",
   "id": "d0281c4d-4af6-48a9-85cd-f98f889fadae",
   "metadata": {},
   "source": [
    "1) Write a program that accepts a list from user and print the alternate element of list."
   ]
  },
  {
   "cell_type": "code",
   "execution_count": 1,
   "id": "bffc839f-3412-423c-9c8d-adf86a08de58",
   "metadata": {},
   "outputs": [
    {
     "name": "stdin",
     "output_type": "stream",
     "text": [
      "Enter a list of elements separated by space:  5 6 56 89\n"
     ]
    },
    {
     "name": "stdout",
     "output_type": "stream",
     "text": [
      "Alternate elements: ['5', '56']\n"
     ]
    }
   ],
   "source": [
    "lst = input(\"Enter a list of elements separated by space: \").split()\n",
    "print(\"Alternate elements:\", lst[::2])\n"
   ]
  },
  {
   "cell_type": "markdown",
   "id": "2f761c53-6085-46f5-be5a-fadc4fd8a1fa",
   "metadata": {},
   "source": [
    "2) Write a program that accepts a list from user. Your program should reverse the content of list and\n",
    "display it. Do not use reverse() method."
   ]
  },
  {
   "cell_type": "code",
   "execution_count": 4,
   "id": "cd032a00-3b1d-40ce-845b-8e91de26866c",
   "metadata": {},
   "outputs": [
    {
     "name": "stdin",
     "output_type": "stream",
     "text": [
      "Enter a list of elements separated by space:  1 5 2 3 4 \n"
     ]
    },
    {
     "name": "stdout",
     "output_type": "stream",
     "text": [
      "Reversed list: ['4', '3', '2', '5', '1']\n"
     ]
    }
   ],
   "source": [
    "lst = input(\"Enter a list of elements separated by space: \").split()\n",
    "reversed_lst = lst[::-1]\n",
    "print(\"Reversed list:\", reversed_lst)\n"
   ]
  },
  {
   "cell_type": "markdown",
   "id": "97ad3eb1-efbe-4386-9fa5-9d44c05a8a1c",
   "metadata": {},
   "source": [
    "3) Find and display the largest number of a list without using built-in function max(). Your program\n",
    "should ask the user to input values in list from keyboard."
   ]
  },
  {
   "cell_type": "code",
   "execution_count": 5,
   "id": "7e97dae0-169d-45ea-bf72-79297998c03f",
   "metadata": {},
   "outputs": [
    {
     "name": "stdin",
     "output_type": "stream",
     "text": [
      "Enter a list of numbers separated by space:  4 65 35 23\n"
     ]
    },
    {
     "name": "stdout",
     "output_type": "stream",
     "text": [
      "Largest number: 65\n"
     ]
    }
   ],
   "source": [
    "lst = list(map(int, input(\"Enter a list of numbers separated by space: \").split()))\n",
    "largest = lst[0]\n",
    "for num in lst:\n",
    "    if num > largest:\n",
    "        largest = num\n",
    "print(\"Largest number:\", largest)\n"
   ]
  },
  {
   "cell_type": "markdown",
   "id": "e8641e23-a5bf-4197-93d4-97c77ac1c85f",
   "metadata": {},
   "source": [
    "4) Write a program that rotates the element of a list so that the element at the first index moves to the\n",
    "second index, the element in the second index moves to the third index, etc., and the element in the last\n",
    "index moves to the first index."
   ]
  },
  {
   "cell_type": "code",
   "execution_count": 6,
   "id": "45a98e8d-7f78-4d74-8698-680861753cfa",
   "metadata": {},
   "outputs": [
    {
     "name": "stdin",
     "output_type": "stream",
     "text": [
      "Enter a list of elements separated by space:  23 54 24 26 34 24\n"
     ]
    },
    {
     "name": "stdout",
     "output_type": "stream",
     "text": [
      "Rotated list: ['54', '24', '26', '34', '24', '23']\n"
     ]
    }
   ],
   "source": [
    "lst = input(\"Enter a list of elements separated by space: \").split()\n",
    "rotated_lst = lst[1:] + lst[:1]\n",
    "print(\"Rotated list:\", rotated_lst)\n"
   ]
  },
  {
   "cell_type": "markdown",
   "id": "ef35315a-4cd7-498a-a448-8f5a3709627a",
   "metadata": {},
   "source": [
    "5) Write a program that input a string and ask user to delete a given word from a string."
   ]
  },
  {
   "cell_type": "code",
   "execution_count": 10,
   "id": "d7f451d9-a681-4f4a-a6c8-dd5ffd7660fb",
   "metadata": {},
   "outputs": [
    {
     "name": "stdin",
     "output_type": "stream",
     "text": [
      "Enter a string:  hello world\n",
      "Enter the word to delete:  wo\n"
     ]
    },
    {
     "name": "stdout",
     "output_type": "stream",
     "text": [
      "String after deletion: hello rld\n"
     ]
    }
   ],
   "source": [
    "string = input(\"Enter a string: \")\n",
    "word_to_delete = input(\"Enter the word to delete: \")\n",
    "new_string = string.replace(word_to_delete, \"\").strip()\n",
    "print(\"String after deletion:\", new_string)\n"
   ]
  },
  {
   "cell_type": "markdown",
   "id": "785d2656-45df-4edf-8ab5-c072da151b49",
   "metadata": {},
   "source": [
    "6) Write a program that reads a string from the user containing a date in the form mm/dd/yyyy. It\n",
    "should print the date in the form March 12, 2021."
   ]
  },
  {
   "cell_type": "code",
   "execution_count": 12,
   "id": "2a56c588-7968-41e0-9907-0d6de77660f9",
   "metadata": {},
   "outputs": [
    {
     "name": "stdin",
     "output_type": "stream",
     "text": [
      "Enter a date in mm/dd/yyyy format:  04/08/2003\n"
     ]
    },
    {
     "name": "stdout",
     "output_type": "stream",
     "text": [
      "April 8, 2003\n"
     ]
    }
   ],
   "source": [
    "date = input(\"Enter a date in mm/dd/yyyy format: \")\n",
    "months = [\"January\", \"February\", \"March\", \"April\", \"May\", \"June\", \n",
    "          \"July\", \"August\", \"September\", \"October\", \"November\", \"December\"]\n",
    "mm, dd, yyyy = map(int, date.split(\"/\"))\n",
    "print(f\"{months[mm - 1]} {dd}, {yyyy}\")\n"
   ]
  },
  {
   "cell_type": "markdown",
   "id": "5c5609fc-6200-45ef-aa94-e77ea59db27c",
   "metadata": {},
   "source": [
    "7) Write a program with a function that accepts a string from keyboard and create a new string after\n",
    "converting character of each word capitalized. For instance, if the sentence is \"stop and smell the roses.\"\n",
    "the output should be \"Stop And Smell The Roses\""
   ]
  },
  {
   "cell_type": "code",
   "execution_count": 13,
   "id": "b13e9292-9285-45c7-9868-71b5c652522a",
   "metadata": {},
   "outputs": [
    {
     "name": "stdin",
     "output_type": "stream",
     "text": [
      "Enter a sentence:  Hello i'm learning ds\n"
     ]
    },
    {
     "name": "stdout",
     "output_type": "stream",
     "text": [
      "Capitalized sentence: Hello I'm Learning Ds\n"
     ]
    }
   ],
   "source": [
    "string = input(\"Enter a sentence: \")\n",
    "capitalized_string = \" \".join(word.capitalize() for word in string.split())\n",
    "print(\"Capitalized sentence:\", capitalized_string)\n"
   ]
  },
  {
   "cell_type": "markdown",
   "id": "f2bc72e5-066d-4db0-bfd7-215d4eb25087",
   "metadata": {},
   "source": [
    "8) Find the sum of each row of matrix of size m x n. For example for the following matrix output will be\n",
    "like this :\n",
    "\n",
    "Sum of row 1 = 32\n",
    "Sum of row 2 = 31\n",
    "Sum of row 3 = 63"
   ]
  },
  {
   "cell_type": "code",
   "execution_count": 14,
   "id": "c28b2579-865e-455e-bd05-cc6ff0f897db",
   "metadata": {},
   "outputs": [
    {
     "name": "stdin",
     "output_type": "stream",
     "text": [
      "Enter the number of rows:  3\n",
      "Enter the number of columns:  4\n",
      "Enter row 1 (space-separated):  2 11 7 12\n",
      "Enter row 2 (space-separated):  5 2 9 15\n",
      "Enter row 3 (space-separated):  8 3 10 42\n"
     ]
    },
    {
     "name": "stdout",
     "output_type": "stream",
     "text": [
      "Sum of row 1 = 32\n",
      "Sum of row 2 = 31\n",
      "Sum of row 3 = 63\n"
     ]
    }
   ],
   "source": [
    "m = int(input(\"Enter the number of rows: \"))\n",
    "n = int(input(\"Enter the number of columns: \"))\n",
    "matrix = []\n",
    "for i in range(m):\n",
    "    row = list(map(int, input(f\"Enter row {i + 1} (space-separated): \").split()))\n",
    "    matrix.append(row)\n",
    "for i, row in enumerate(matrix):\n",
    "    print(f\"Sum of row {i + 1} =\", sum(row))\n"
   ]
  },
  {
   "cell_type": "markdown",
   "id": "9af8ce49-0e77-4638-bc0a-0b6717eb2d19",
   "metadata": {},
   "source": [
    "9) Write a program to add two matrices of size n x m."
   ]
  },
  {
   "cell_type": "code",
   "execution_count": 15,
   "id": "d9f6121a-e6c1-4a63-939a-ac0dc129290b",
   "metadata": {},
   "outputs": [
    {
     "name": "stdin",
     "output_type": "stream",
     "text": [
      "Enter the number of rows and columns (n m):  3 4\n"
     ]
    },
    {
     "name": "stdout",
     "output_type": "stream",
     "text": [
      "Enter the first matrix:\n"
     ]
    },
    {
     "name": "stdin",
     "output_type": "stream",
     "text": [
      " 2 11 7 12\n",
      " 5 2 9 15\n",
      " 8 3 10 42\n"
     ]
    },
    {
     "name": "stdout",
     "output_type": "stream",
     "text": [
      "Enter the second matrix:\n"
     ]
    },
    {
     "name": "stdin",
     "output_type": "stream",
     "text": [
      " 2 11 7 12\n",
      " 5 2 9 15\n",
      " 8 3 10 42\n"
     ]
    },
    {
     "name": "stdout",
     "output_type": "stream",
     "text": [
      "Sum of matrices:\n",
      "4 22 14 24\n",
      "10 4 18 30\n",
      "16 6 20 84\n"
     ]
    }
   ],
   "source": [
    "n, m = map(int, input(\"Enter the number of rows and columns (n m): \").split())\n",
    "matrix1 = []\n",
    "matrix2 = []\n",
    "\n",
    "print(\"Enter the first matrix:\")\n",
    "for i in range(n):\n",
    "    matrix1.append(list(map(int, input().split())))\n",
    "\n",
    "print(\"Enter the second matrix:\")\n",
    "for i in range(n):\n",
    "    matrix2.append(list(map(int, input().split())))\n",
    "\n",
    "result = [[matrix1[i][j] + matrix2[i][j] for j in range(m)] for i in range(n)]\n",
    "print(\"Sum of matrices:\")\n",
    "for row in result:\n",
    "    print(*row)\n"
   ]
  },
  {
   "cell_type": "markdown",
   "id": "ebf84d63-b351-413f-9b8f-99a38c133215",
   "metadata": {},
   "source": [
    "10) Write a program to multiply two matrices"
   ]
  },
  {
   "cell_type": "code",
   "execution_count": 18,
   "id": "9a6453e0-b31d-40e9-9d70-aadb65b6f833",
   "metadata": {},
   "outputs": [
    {
     "name": "stdin",
     "output_type": "stream",
     "text": [
      "Enter rows and columns for the first matrix (n1 m1):  1 2\n",
      "Enter rows and columns for the second matrix (n2 m2):  2 1\n"
     ]
    },
    {
     "name": "stdout",
     "output_type": "stream",
     "text": [
      "Enter the first matrix:\n"
     ]
    },
    {
     "name": "stdin",
     "output_type": "stream",
     "text": [
      " 2 3\n"
     ]
    },
    {
     "name": "stdout",
     "output_type": "stream",
     "text": [
      "Enter the second matrix:\n"
     ]
    },
    {
     "name": "stdin",
     "output_type": "stream",
     "text": [
      " 1 2\n",
      " 2\n"
     ]
    },
    {
     "name": "stdout",
     "output_type": "stream",
     "text": [
      "Product of matrices:\n",
      "8\n"
     ]
    }
   ],
   "source": [
    "## n1, m1 = map(int, input(\"Enter rows and columns for the first matrix (n1 m1): \").split())\n",
    "n2, m2 = map(int, input(\"Enter rows and columns for the second matrix (n2 m2): \").split())\n",
    "\n",
    "if m1 != n2:\n",
    "    print(\"Matrix multiplication not possible. Columns of the first matrix must equal rows of the second matrix.\")\n",
    "else:\n",
    "    print(\"Enter the first matrix:\")\n",
    "    matrix1 = [list(map(int, input().split())) for _ in range(n1)]\n",
    "\n",
    "    print(\"Enter the second matrix:\")\n",
    "    matrix2 = [list(map(int, input().split())) for _ in range(n2)]\n",
    "\n",
    "    result = [[sum(matrix1[i][k] * matrix2[k][j] for k in range(m1)) for j in range(m2)] for i in range(n1)]\n",
    "\n",
    "    print(\"Product of matrices:\")\n",
    "    for row in result:\n",
    "        print(*row)\n"
   ]
  },
  {
   "cell_type": "code",
   "execution_count": null,
   "id": "67238d2c-450f-4766-9df9-dacda9dc2a21",
   "metadata": {},
   "outputs": [],
   "source": []
  }
 ],
 "metadata": {
  "kernelspec": {
   "display_name": "Python 3 (ipykernel)",
   "language": "python",
   "name": "python3"
  },
  "language_info": {
   "codemirror_mode": {
    "name": "ipython",
    "version": 3
   },
   "file_extension": ".py",
   "mimetype": "text/x-python",
   "name": "python",
   "nbconvert_exporter": "python",
   "pygments_lexer": "ipython3",
   "version": "3.12.7"
  }
 },
 "nbformat": 4,
 "nbformat_minor": 5
}
