{
 "cells": [
  {
   "cell_type": "markdown",
   "id": "d192a58a-de6f-4b8d-894d-7144c859f599",
   "metadata": {},
   "source": [
    "1) Write a Python function to find the maximum of three numbers. "
   ]
  },
  {
   "cell_type": "code",
   "execution_count": 9,
   "id": "19680bec-61b8-42f5-affd-470558049343",
   "metadata": {},
   "outputs": [
    {
     "name": "stdin",
     "output_type": "stream",
     "text": [
      "Enter the first number:  25\n",
      "Enter the second number:  156\n",
      "Enter the third number:  785\n"
     ]
    },
    {
     "name": "stdout",
     "output_type": "stream",
     "text": [
      "The maximum of the three numbers is: 785.0\n"
     ]
    },
    {
     "data": {
      "text/plain": [
       "785.0"
      ]
     },
     "execution_count": 9,
     "metadata": {},
     "output_type": "execute_result"
    }
   ],
   "source": [
    "def find_max_of_three():\n",
    "    try:\n",
    "        num1 = float(input(\"Enter the first number: \"))\n",
    "        num2 = float(input(\"Enter the second number: \"))\n",
    "        num3 = float(input(\"Enter the third number: \"))\n",
    "\n",
    "        maximum = max(num1, num2, num3)\n",
    "\n",
    "        print(f\"The maximum of the three numbers is: {maximum}\")\n",
    "        return maximum\n",
    "\n",
    "    except ValueError:\n",
    "        print(\"Invalid input. Please enter numeric values.\")\n",
    "        return None\n",
    "\n",
    "\n",
    "# Call the function\n",
    "find_max_of_three()"
   ]
  },
  {
   "cell_type": "markdown",
   "id": "92de5873-7bae-4843-9845-9e260fcfa5d2",
   "metadata": {},
   "source": [
    "2) Write a Python function to sum all the numbers in a list.\n",
    "Sample List : (8, 2, 3, 0, 7)\n",
    "Expected Output : 20 "
   ]
  },
  {
   "cell_type": "code",
   "execution_count": 20,
   "id": "8e6b842e-0694-4a05-bd17-5ef1117f7c2f",
   "metadata": {},
   "outputs": [
    {
     "name": "stdout",
     "output_type": "stream",
     "text": [
      "Expected Output: 20\n"
     ]
    }
   ],
   "source": [
    "def sum_of_list(numbers):\n",
    "   \n",
    "    return sum(numbers)\n",
    "\n",
    "sample_list = [8, 2, 3, 0, 7]\n",
    "\n",
    "# Call the function and print the result\n",
    "result = sum_of_list(sample_list)\n",
    "print(f\"Expected Output: {result}\")"
   ]
  },
  {
   "cell_type": "markdown",
   "id": "a682623f-c266-4f32-9d37-5791aa16039c",
   "metadata": {},
   "source": [
    "3) Write a Python function to multiply all the numbers in a list.\n",
    "Sample List : (8, 2, 3, -1, 7)\n",
    "Expected Output : -336 "
   ]
  },
  {
   "cell_type": "code",
   "execution_count": 23,
   "id": "a4a1cc60-71f7-441e-bda8-5b0966451633",
   "metadata": {},
   "outputs": [
    {
     "name": "stdout",
     "output_type": "stream",
     "text": [
      "Expected Output: -336\n"
     ]
    }
   ],
   "source": [
    "from functools import reduce\n",
    "\n",
    "def multiply_list(numbers):\n",
    "    \n",
    "    return reduce(lambda x, y: x * y, numbers)\n",
    "\n",
    "sample_list = [8, 2, 3, -1, 7]\n",
    "\n",
    "# Call the function and print the result\n",
    "result = multiply_list(sample_list)\n",
    "print(f\"Expected Output: {result}\")"
   ]
  },
  {
   "cell_type": "markdown",
   "id": "407b386c-0b47-4f64-aa2a-d3b92848178b",
   "metadata": {},
   "source": [
    "4) Write a Python program to reverse a string.\n",
    "Sample String : \"1234abcd\"\n",
    "Expected Output : \"dcba4321\" \n"
   ]
  },
  {
   "cell_type": "code",
   "execution_count": 26,
   "id": "3a7c3f7e-f1e2-4ff6-b425-ef46f7028342",
   "metadata": {},
   "outputs": [
    {
     "name": "stdout",
     "output_type": "stream",
     "text": [
      "Expected Output (Multiply List): -336\n",
      "Expected Output (Reverse String): dcba4321\n"
     ]
    }
   ],
   "source": [
    "from functools import reduce\n",
    "\n",
    "def multiply_list(numbers):\n",
    "    \n",
    "    return reduce(lambda x, y: x * y, numbers)\n",
    "\n",
    "def reverse_string(input_string):\n",
    "    \n",
    "    return input_string[::-1]\n",
    "\n",
    "sample_list = [8, 2, 3, -1, 7]\n",
    "\n",
    "result = multiply_list(sample_list)\n",
    "print(f\"Expected Output (Multiply List): {result}\")\n",
    "\n",
    "sample_string = \"1234abcd\"\n",
    "\n",
    "# Call the function and print the result for reverse_string\n",
    "reversed_result = reverse_string(sample_string)\n",
    "print(f\"Expected Output (Reverse String): {reversed_result}\")\n"
   ]
  },
  {
   "cell_type": "markdown",
   "id": "94324a9c-65f4-4f1e-9166-53100408032b",
   "metadata": {},
   "source": [
    "4) Write a Python program to reverse a string.\n",
    "Sample String : \"1234abcd\"\n",
    "Expected Output : \"dcba4321\" \n"
   ]
  },
  {
   "cell_type": "code",
   "execution_count": 28,
   "id": "5ae34976-d082-4f9d-bd68-e1dc6cf22af2",
   "metadata": {},
   "outputs": [
    {
     "name": "stdout",
     "output_type": "stream",
     "text": [
      "Reversed String: dcba4321\n"
     ]
    }
   ],
   "source": [
    "sample_string = \"1234abcd\"\n",
    "\n",
    "# Reverse the string\n",
    "reversed_string = sample_string[::-1]\n",
    "\n",
    "# Print the reversed string\n",
    "print(\"Reversed String:\", reversed_string)"
   ]
  },
  {
   "cell_type": "markdown",
   "id": "d71a411b-48d7-4fb4-bd88-51ddba0f78c4",
   "metadata": {},
   "source": [
    "5) Write a Python function to calculate the factorial of a number (a non-negative\n",
    "integer). The function accepts the number as an argument. \n"
   ]
  },
  {
   "cell_type": "code",
   "execution_count": 34,
   "id": "94c530bc-e7bd-455d-a22e-734452fcb5b6",
   "metadata": {},
   "outputs": [
    {
     "name": "stdout",
     "output_type": "stream",
     "text": [
      "The factorial of 5 is 120\n"
     ]
    }
   ],
   "source": [
    "def factorial(n):\n",
    "    \n",
    "    if n < 0:\n",
    "        return \"Factorial is not defined for negative numbers\"\n",
    "   \n",
    "    elif n == 0 or n == 1:\n",
    "        return 1\n",
    "    else:\n",
    "       \n",
    "        return n * factorial(n - 1)\n",
    "\n",
    "# Test the function\n",
    "number = 5\n",
    "print(f\"The factorial of {number} is {factorial(number)}\")"
   ]
  },
  {
   "cell_type": "markdown",
   "id": "db9f9861-0f47-4175-916b-0b7026414428",
   "metadata": {},
   "source": [
    "6) Write a Python function to check whether a number falls within a given range."
   ]
  },
  {
   "cell_type": "code",
   "execution_count": 39,
   "id": "ec5bfad8-1849-446a-a6f0-542abe9ebeb6",
   "metadata": {},
   "outputs": [
    {
     "name": "stdout",
     "output_type": "stream",
     "text": [
      "True\n"
     ]
    }
   ],
   "source": [
    "def is_in_range(num, start, end):\n",
    "    return start <= num <= end\n",
    "\n",
    "# Test the function\n",
    "number = 5\n",
    "print(is_in_range(number, 1, 10))"
   ]
  },
  {
   "cell_type": "markdown",
   "id": "333ac6a1-a10f-4f7e-a967-5bac4722efbd",
   "metadata": {},
   "source": [
    "7) Write a Python function that accepts a string and counts the number of upper\n",
    "and lower case letters.\n",
    "Sample String : 'The quick Brow Fox'"
   ]
  },
  {
   "cell_type": "code",
   "execution_count": 42,
   "id": "456c8feb-16f0-475e-9342-9fa0c20b82b0",
   "metadata": {},
   "outputs": [
    {
     "name": "stdout",
     "output_type": "stream",
     "text": [
      "Uppercase letters: 3\n",
      "Lowercase letters: 12\n"
     ]
    }
   ],
   "source": [
    "def count_case(string):\n",
    "    upper_case = 0\n",
    "    lower_case = 0\n",
    "    for char in string:\n",
    "        if char.isupper():\n",
    "            upper_case += 1\n",
    "        elif char.islower():\n",
    "            lower_case += 1\n",
    "    return upper_case, lower_case\n",
    "\n",
    "# Test the function\n",
    "sample_string = 'The quick Brow Fox'9\n",
    "upper, lower = count_case(sample_string)\n",
    "print(f\"Uppercase letters: {upper}\")\n",
    "print(f\"Lowercase letters: {lower}\")"
   ]
  },
  {
   "cell_type": "markdown",
   "id": "5aecd9a4-04c0-4a08-a030-aa839ef6f7bb",
   "metadata": {},
   "source": [
    "8) Write a Python function that takes a list and returns a new list with distinct\n",
    "elements from the first list.\n",
    "Sample List : [1,2,3,3,3,3,4,5]\n",
    "Unique List : [1, 2, 3, 4, 5]"
   ]
  },
  {
   "cell_type": "code",
   "execution_count": 45,
   "id": "31d6d0af-615f-44bc-b773-4fe9a429ea82",
   "metadata": {},
   "outputs": [
    {
     "name": "stdout",
     "output_type": "stream",
     "text": [
      "Unique List: [1, 2, 3, 4, 5]\n"
     ]
    }
   ],
   "source": [
    "def unique_elements(lst):\n",
    "    return list(set(lst))\n",
    "\n",
    "# Test the function\n",
    "sample_list = [1, 2, 3, 3, 3, 3, 4, 5]\n",
    "unique_list = unique_elements(sample_list)\n",
    "print(\"Unique List:\", unique_list)"
   ]
  },
  {
   "cell_type": "markdown",
   "id": "81e043c7-adc0-4720-98e9-a00bd4e1a3ff",
   "metadata": {},
   "source": [
    "9) Write a Python function that takes a number as a parameter and checks\n",
    "whether the number is prime or not.\n",
    "Note : A prime number (or a prime) is a natural number greater than 1 and that\n",
    "has no positive divisors other than 1 and itself. \n"
   ]
  },
  {
   "cell_type": "code",
   "execution_count": 48,
   "id": "6e8b1f55-a2e6-4786-a473-5aa70b2d8676",
   "metadata": {},
   "outputs": [
    {
     "name": "stdout",
     "output_type": "stream",
     "text": [
      "7 is prime: True\n"
     ]
    }
   ],
   "source": [
    "def is_prime(num):\n",
    "    if num <= 1:\n",
    "        return False\n",
    "    for i in range(2, int(num**0.5) + 1):\n",
    "        if num % i == 0:\n",
    "            return False\n",
    "    return True\n",
    "\n",
    "# Test the function\n",
    "number = 7\n",
    "print(f\"{number} is prime: {is_prime(number)}\")"
   ]
  },
  {
   "cell_type": "markdown",
   "id": "f7c09e86-0630-49c0-bbc9-db9a81d70758",
   "metadata": {},
   "source": [
    "10) Write a Python program to print the even numbers from a given list.\n",
    "Sample List : [1, 2, 3, 4, 5, 6, 7, 8, 9]"
   ]
  },
  {
   "cell_type": "code",
   "execution_count": 57,
   "id": "b0af1fd9-0e82-499b-83e9-682afc25741d",
   "metadata": {},
   "outputs": [
    {
     "name": "stdout",
     "output_type": "stream",
     "text": [
      "2\n",
      "4\n",
      "6\n",
      "8\n"
     ]
    }
   ],
   "source": [
    "def print_even_numbers(lst):\n",
    "    for num in lst:\n",
    "        if num % 2 == 0:\n",
    "            print(num)\n",
    "\n",
    "# Test the function\n",
    "sample_list = [1, 2, 3, 4, 5, 6, 7, 8, 9]\n",
    "print_even_numbers(sample_list)\n"
   ]
  },
  {
   "cell_type": "markdown",
   "id": "ecef4ff6-8381-4419-8319-4e1b71e3022b",
   "metadata": {},
   "source": [
    "11) Write a Python function to check whether a number is \"Perfect\" or not.\n",
    "According to Wikipedia : In number theory, a perfect number is a positive integer\n",
    "that is equal to the sum of its proper positive divisors, that is, the sum of its\n",
    "positive divisors excluding the number itself (also known as its aliquot sum).\n",
    "Equivalently, a perfect number is a number that is half the sum of all of its\n",
    "positive divisors (including itself).\n",
    "Example : The first perfect number is 6, because 1, 2, and 3 are its proper positive\n",
    "divisors, and 1 + 2 + 3 = 6. Equivalently, the number 6 is equal to half the sum of\n",
    "all its positive divisors: ( 1 + 2 + 3 + 6 ) / 2 = 6. The next perfect number is 28 = 1 +\n",
    "2 + 4 + 7 + 14. This is followed by the perfect numbers 496 and 8128. "
   ]
  },
  {
   "cell_type": "code",
   "execution_count": 62,
   "id": "ddc3dbcd-8dbe-4992-9b8f-63e378b8dbfb",
   "metadata": {},
   "outputs": [
    {
     "name": "stdout",
     "output_type": "stream",
     "text": [
      "6 is a perfect number: True\n"
     ]
    }
   ],
   "source": [
    "def is_perfect_number(num):\n",
    "    if num <= 1:\n",
    "        return False\n",
    "    divisors_sum = 0\n",
    "    for i in range(1, num // 2 + 1):\n",
    "        if num % i == 0:\n",
    "            divisors_sum += i\n",
    "    return divisors_sum == num\n",
    "\n",
    "# Test the function\n",
    "number = 6\n",
    "print(f\"{number} is a perfect number: {is_perfect_number(number)}\")"
   ]
  },
  {
   "cell_type": "markdown",
   "id": "c5869400-d40c-4c7a-81b1-da496bc3b34b",
   "metadata": {},
   "source": [
    "12) Write a Python function that checks whether a passed string is a palindrome\n",
    "or not.\n",
    "Note: A palindrome is a word, phrase, or sequence that reads the same backward\n",
    "as forward, e.g., madam or nurses run. "
   ]
  },
  {
   "cell_type": "code",
   "execution_count": 65,
   "id": "ce2224bf-d2a3-4bca-b363-09c658d00033",
   "metadata": {},
   "outputs": [
    {
     "name": "stdout",
     "output_type": "stream",
     "text": [
      "'Madam' is a palindrome: True\n"
     ]
    }
   ],
   "source": [
    "def is_palindrome(s):\n",
    "    # Remove spaces and convert to lowercase for consistent comparison\n",
    "    s = s.replace(\" \", \"\").lower()\n",
    "    return s == s[::-1]\n",
    "\n",
    "# Test the function\n",
    "string = \"Madam\"\n",
    "print(f\"'{string}' is a palindrome: {is_palindrome(string)}\")"
   ]
  },
  {
   "cell_type": "code",
   "execution_count": null,
   "id": "3b14b967-0d4e-4970-b50d-2a9d0f641ebc",
   "metadata": {},
   "outputs": [],
   "source": []
  }
 ],
 "metadata": {
  "kernelspec": {
   "display_name": "Python 3 (ipykernel)",
   "language": "python",
   "name": "python3"
  },
  "language_info": {
   "codemirror_mode": {
    "name": "ipython",
    "version": 3
   },
   "file_extension": ".py",
   "mimetype": "text/x-python",
   "name": "python",
   "nbconvert_exporter": "python",
   "pygments_lexer": "ipython3",
   "version": "3.12.7"
  }
 },
 "nbformat": 4,
 "nbformat_minor": 5
}
