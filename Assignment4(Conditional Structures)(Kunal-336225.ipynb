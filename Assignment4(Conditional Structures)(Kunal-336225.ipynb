{
 "cells": [
  {
   "cell_type": "markdown",
   "id": "6fa5c450-fded-48d3-9cef-4bbf5b9f70d1",
   "metadata": {},
   "source": [
    "## Conditional Structures \n"
   ]
  },
  {
   "cell_type": "markdown",
   "id": "a7c61a36-057c-4ea3-9ebe-728e32cff249",
   "metadata": {},
   "source": [
    "1. Write a program that prompts the user to input a number and display if the number \n",
    "is even or odd. "
   ]
  },
  {
   "cell_type": "code",
   "execution_count": 4,
   "id": "a89020c0-ffd1-4ac4-b116-5869eba24082",
   "metadata": {},
   "outputs": [
    {
     "name": "stdin",
     "output_type": "stream",
     "text": [
      "Please enter a number: 77\n"
     ]
    },
    {
     "name": "stdout",
     "output_type": "stream",
     "text": [
      "77.0 is an odd\n"
     ]
    }
   ],
   "source": [
    "num = float(input(\"Please enter a number:\"))\n",
    "if num%2 == 0:\n",
    "    print(f\"{num} is an even\")\n",
    "else:\n",
    "    print(f\"{num} is an odd\")"
   ]
  },
  {
   "cell_type": "markdown",
   "id": "0d401561-9fd4-4aaa-a95c-040d59f2fe60",
   "metadata": {},
   "source": [
    "2. Write a Python program that takes an age as input and determines whether a person \n",
    "is eligible to vote. If the age is 18 or above, print \"You are eligible to vote.\" Otherwise, \n",
    "print \"You are not eligible to vote yet.\"."
   ]
  },
  {
   "cell_type": "code",
   "execution_count": 6,
   "id": "35240882-1fa5-4222-ae75-a854d7a253fe",
   "metadata": {},
   "outputs": [
    {
     "name": "stdin",
     "output_type": "stream",
     "text": [
      "Please enter your age: 13\n"
     ]
    },
    {
     "name": "stdout",
     "output_type": "stream",
     "text": [
      "You are not eligible to vote yet\n"
     ]
    }
   ],
   "source": [
    "age = int(input(\"Please enter your age:\"))\n",
    "if age>= 18:\n",
    "    print(\"You are eligible to vote\")\n",
    "else:\n",
    "    print(\"You are not eligible to vote yet\")"
   ]
  },
  {
   "cell_type": "markdown",
   "id": "df0998e1-4c4c-436b-b459-1ac99c5ca68f",
   "metadata": {},
   "source": [
    "3. Write a program that prompts the user to input two integers and outputs the largest. "
   ]
  },
  {
   "cell_type": "code",
   "execution_count": 11,
   "id": "fd0fe150-d8b6-4aa2-a932-7d7a4b79cdc7",
   "metadata": {},
   "outputs": [
    {
     "name": "stdin",
     "output_type": "stream",
     "text": [
      "Enter the first integer:  77\n",
      "Enter the second integer:  77\n"
     ]
    },
    {
     "name": "stdout",
     "output_type": "stream",
     "text": [
      "Both numbers are equal.\n"
     ]
    }
   ],
   "source": [
    "num1 = int(input(\"Enter the first integer: \"))\n",
    "num2 = int(input(\"Enter the second integer: \"))\n",
    "if num1 > num2:\n",
    "    print(f\"The largest number is: {num1}\")\n",
    "elif num2 > num1:\n",
    "    print(f\"The largest number is: {num2}\")\n",
    "else:\n",
    "    print(\"Both numbers are equal.\")"
   ]
  },
  {
   "cell_type": "markdown",
   "id": "9db2725f-d74c-41ec-8d7e-4a8b35913bee",
   "metadata": {},
   "source": [
    "4. Write a program that prompts the user to enter a number and determines whether it \n",
    "is positive, negative, or zero. The program should print \"Positive\" if the number is \n",
    "greater than 0, \"Negative\" if the number is less than 0, and \"Zero\" if the number is 0. `"
   ]
  },
  {
   "cell_type": "code",
   "execution_count": 15,
   "id": "ffbd0d58-7c0b-4e07-83c2-40b71a2093d4",
   "metadata": {},
   "outputs": [
    {
     "name": "stdin",
     "output_type": "stream",
     "text": [
      "Enter the the number:  897.0977\n"
     ]
    },
    {
     "name": "stdout",
     "output_type": "stream",
     "text": [
      "897.0977 is postive\n"
     ]
    }
   ],
   "source": [
    "num = float(input(\"Enter the the number: \"))\n",
    "if num > 0:\n",
    "    print(f\"{num} is postive\")\n",
    "elif num < 0:\n",
    "    print(f\"{num} is negative\")\n",
    "else:\n",
    "    print(f\"{num} is zero\")"
   ]
  },
  {
   "cell_type": "markdown",
   "id": "214685f0-bbcc-4fef-84ef-1dc417bd3cd4",
   "metadata": {},
   "source": [
    "5. Write a program that prompts the user to enter their age and prints the \n",
    "corresponding age group. The program should use the following age groups: \n",
    "0-12: Child \n",
    "13-19: Teenager \n",
    "20-59: Adult \n",
    "60 and above: Senior Citizen "
   ]
  },
  {
   "cell_type": "code",
   "execution_count": 26,
   "id": "2a4d2a58-26a7-4db3-bea6-474bcdff9644",
   "metadata": {},
   "outputs": [
    {
     "name": "stdin",
     "output_type": "stream",
     "text": [
      "Please enter your age: 0\n"
     ]
    },
    {
     "name": "stdout",
     "output_type": "stream",
     "text": [
      "Please enter a valid age\n"
     ]
    }
   ],
   "source": [
    "age = int(input(\"Please enter your age:\"))\n",
    "if 0 < age <=12:\n",
    "    print(\"Child\")\n",
    "elif 13 <= age <=19:\n",
    "    print(\"Teenager\") \n",
    "elif 20 <= age <=59:\n",
    "    print(\"Adult\")    \n",
    "elif 60 <= age:  \n",
    "    print(\"Senior Citizen\")\n",
    "else:\n",
    "    print(\"Please enter a valid age\")"
   ]
  },
  {
   "cell_type": "markdown",
   "id": "b054526e-1bdf-4d77-8a78-146327216bb9",
   "metadata": {},
   "source": [
    "6. Write a program that prompts the user to input a number from 1 to 7. The program \n",
    "should display the corresponding day for the given number. For example, if the user \n",
    "types 1, the output should be Sunday. If the user types 7, the output should be \n",
    "Saturday. If the number is not between 1 to 7 user should get error message as shown \n",
    "in sample output. "
   ]
  },
  {
   "cell_type": "code",
   "execution_count": 5,
   "id": "2e7948af-3b9e-4e7e-8bb2-06f6610c530f",
   "metadata": {},
   "outputs": [
    {
     "name": "stdin",
     "output_type": "stream",
     "text": [
      "Enter a number(1-7):  5\n"
     ]
    },
    {
     "name": "stdout",
     "output_type": "stream",
     "text": [
      "Thursday\n"
     ]
    }
   ],
   "source": [
    "num = int(input(\"Enter a number(1-7): \"))\n",
    "if num == 1:\n",
    "    print(\"Sunday\")\n",
    "elif num == 2:\n",
    "    print(\"Monday\")\n",
    "elif num == 3:\n",
    "    print(\"Tuesday\")\n",
    "elif num == 4:\n",
    "    print(\"Wednesday\")\n",
    "elif num == 5:\n",
    "    print(\"Thursday\")    \n",
    "elif num == 6:\n",
    "    print(\"Friday\")\n",
    "elif num == 7:\n",
    "    print(\"Saturday\")  \n",
    "else:\n",
    "    print(\"Enter a valid number within(1-7)\")\n",
    "    "
   ]
  },
  {
   "cell_type": "markdown",
   "id": "05a433e1-538e-4408-ad34-83c0075097e8",
   "metadata": {},
   "source": [
    "7. Write a program that prompts the user to enter their weight (in kilograms) and height \n",
    "(in meters). The program should calculate the Body Mass Index (BMI) using the formula: \n",
    "BMI = weight / (height * height). The program should then classify the BMI into one of \n",
    "the following categories: \n",
    "less than 18.5 - Underweight \n",
    "BMI between 18.5 and 24.9 - Normal weight \n",
    "BMI between 25 and 29.9 - Overweight \n",
    "BMI 30 or greater - Obesity "
   ]
  },
  {
   "cell_type": "code",
   "execution_count": 30,
   "id": "fdaa240b-dfcd-4e54-9b6b-9bde8314f369",
   "metadata": {},
   "outputs": [
    {
     "name": "stdin",
     "output_type": "stream",
     "text": [
      "Enter your weight (in kilograms): 67\n",
      "Enter your height (in meters): 4\n"
     ]
    },
    {
     "name": "stdout",
     "output_type": "stream",
     "text": [
      "Under weight\n"
     ]
    }
   ],
   "source": [
    "weight = float(input(\"Enter your weight (in kilograms):\"))\n",
    "height = float(input(\"Enter your height (in meters):\"))\n",
    "BMI = weight / (height * height)\n",
    "if BMI < 18.5:\n",
    "    print('Under weight')\n",
    "elif 18.5 <= BMI <= 24.9:\n",
    "    print('Normal weight')\n",
    "elif 25 <= BMI <= 29.9:\n",
    "    print('Over weight')\n",
    "elif 30 <= BMI:\n",
    "    print('Obesity')\n",
    "             "
   ]
  },
  {
   "cell_type": "markdown",
   "id": "1219526b-9dc5-428e-85a2-3bd074ea0d94",
   "metadata": {},
   "source": [
    "8. The marks obtained by a student in 3 different subjects are input by the user. Your \n",
    "program should calculate the average of subjects and display the grade. The student \n",
    "gets a grade as per the following rules: \n",
    "Average Grade \n",
    "90-100 A \n",
    "80-89 B \n",
    "70-79 C \n",
    "60-69 D \n",
    "0-59 F "
   ]
  },
  {
   "cell_type": "code",
   "execution_count": 31,
   "id": "51fbd9ac-d179-48b9-a8f6-2f4535e7118f",
   "metadata": {},
   "outputs": [
    {
     "name": "stdin",
     "output_type": "stream",
     "text": [
      "Enter your Mathematics marks:  6\n",
      "Enter your Physics marks:  87\n",
      "Enter your Chemistry marks:  102020\n"
     ]
    },
    {
     "name": "stdout",
     "output_type": "stream",
     "text": [
      "Invalid input\n"
     ]
    }
   ],
   "source": [
    "\n",
    "math = float(input(\"Enter your Mathematics marks: \"))\n",
    "phys = float(input(\"Enter your Physics marks: \"))\n",
    "chem = float(input(\"Enter your Chemistry marks: \"))\n",
    "\n",
    "average = (math + phys + chem) / 3\n",
    "\n",
    "if 90 <= average <= 100:\n",
    "    print(\"A\")\n",
    "elif 80 <= average < 90:\n",
    "    print(\"B\")\n",
    "elif 70 <= average < 80:\n",
    "    print(\"C\")\n",
    "elif 60 <= average < 70:\n",
    "    print(\"D\")\n",
    "elif 0 <= average < 60:\n",
    "    print(\"F\")\n",
    "else:\n",
    "    print(\"Invalid input\")"
   ]
  },
  {
   "cell_type": "markdown",
   "id": "07bf87fd-b26d-48f5-94cc-c29e59673f98",
   "metadata": {},
   "source": [
    "9. The roots of the quadratic equation ax2\n",
    " + bx + c = 0, a ≠ 0 are given by the following \n",
    "formula: \n",
    "In this formula, the term b2\n",
    " - 4ac is called the discriminant. If b2\n",
    " - 4ac = 0, then the \n",
    "equation has two equal roots. \n",
    "If b2\n",
    " - 4ac > 0, the equation has two real roots. If b2\n",
    " - 4ac < 0, the equation has two \n",
    "complex roots. \n",
    "Write a program that prompts the user to input the value of a (the coefficient of x2\n",
    "), b \n",
    "(the coefficient of x), and c (the constant term) and outputs the roots of the quadratic \n",
    "equation. "
   ]
  },
  {
   "cell_type": "code",
   "execution_count": 37,
   "id": "2fe6d75d-ba73-46bd-b093-684b4c15911c",
   "metadata": {},
   "outputs": [
    {
     "name": "stdin",
     "output_type": "stream",
     "text": [
      "Enter the coefficient a (a ≠ 0):  1\n",
      "Enter the coefficient b:  0\n",
      "Enter the constant c:  1\n"
     ]
    },
    {
     "name": "stdout",
     "output_type": "stream",
     "text": [
      "The equation has two complex roots: 1j and (-0-1j)\n"
     ]
    }
   ],
   "source": [
    "import cmath\n",
    "\n",
    "a = float(input(\"Enter the coefficient a (a ≠ 0): \"))\n",
    "b = float(input(\"Enter the coefficient b: \"))\n",
    "c = float(input(\"Enter the constant c: \"))\n",
    "\n",
    "if a == 0:\n",
    "    print(\"Coefficient 'a' cannot be zero. This is not a quadratic equation.\")\n",
    "else:\n",
    "    discriminant = b**2 - 4*a*c\n",
    "    \n",
    "    if discriminant > 0:\n",
    "        root1 = (-b + discriminant**0.5) / (2*a)\n",
    "        root2 = (-b - discriminant**0.5) / (2*a)\n",
    "        print(f\"The equation has two real roots: {root1:.2f} and {root2:.2f}\")\n",
    "    elif discriminant == 0:\n",
    "        root = -b / (2*a)\n",
    "        print(f\"The equation has one real root: {root:.2f}\")\n",
    "    else:\n",
    "        root1 = (-b + cmath.sqrt(discriminant)) / (2*a)\n",
    "        root2 = (-b - cmath.sqrt(discriminant)) / (2*a)\n",
    "        print(f\"The equation has two complex roots: {root1} and {root2}\")\n"
   ]
  },
  {
   "cell_type": "markdown",
   "id": "65893330-46b0-41cf-84ea-7ec38cd2e8aa",
   "metadata": {},
   "source": [
    "10. Write a program that prompts the user to enter three numbers and sorts them in \n",
    "ascending order. The program should print the sorted numbers. "
   ]
  },
  {
   "cell_type": "code",
   "execution_count": 38,
   "id": "37f2252f-fd06-451a-9661-1983fe7e5660",
   "metadata": {},
   "outputs": [
    {
     "name": "stdin",
     "output_type": "stream",
     "text": [
      "Enter a first number:  1\n",
      "Enter a second number:  5\n",
      "Enter a third number:  4\n"
     ]
    },
    {
     "name": "stdout",
     "output_type": "stream",
     "text": [
      "The numbers in ascending order are: [1.0, 4.0, 5.0]\n"
     ]
    }
   ],
   "source": [
    "num1 = float(input(\"Enter a first number: \"))\n",
    "num2 = float(input(\"Enter a second number: \"))\n",
    "num3 = float(input(\"Enter a third number: \"))\n",
    "\n",
    "numbers = [num1, num2, num3]\n",
    "numbers.sort()\n",
    "\n",
    "print(f\"The numbers in ascending order are: {numbers}\")"
   ]
  },
  {
   "cell_type": "markdown",
   "id": "515437fd-fd63-44a1-8a04-e53854c50681",
   "metadata": {},
   "source": [
    "11. Write a program that prompts the user to input three integers and outputs the \n",
    "largest. "
   ]
  },
  {
   "cell_type": "code",
   "execution_count": 40,
   "id": "2b91cb4b-49a9-4ad5-a20e-029007605bb8",
   "metadata": {},
   "outputs": [
    {
     "name": "stdin",
     "output_type": "stream",
     "text": [
      "Enter a first number: 4\n",
      "Enter a second number: 5\n",
      "Enter a third number: 6\n"
     ]
    },
    {
     "name": "stdout",
     "output_type": "stream",
     "text": [
      "The largest number is: 6\n"
     ]
    }
   ],
   "source": [
    "num1 = int(input(\"Enter a first number:\"))\n",
    "num2 = int(input(\"Enter a second number:\"))\n",
    "num3 = int(input(\"Enter a third number:\"))\n",
    "\n",
    "largest = max(num1, num2, num3)\n",
    "\n",
    "# Print the result\n",
    "print(\"The largest number is:\", largest)"
   ]
  },
  {
   "cell_type": "markdown",
   "id": "a38e73ce-8850-4b28-aabe-e4577a856a18",
   "metadata": {},
   "source": [
    "12. Write a program that prompts the user to input a character and determine the \n",
    "character is vowel or consonant. "
   ]
  },
  {
   "cell_type": "code",
   "execution_count": 41,
   "id": "c19009f1-2a00-41af-821a-7533dc6d7e33",
   "metadata": {},
   "outputs": [
    {
     "name": "stdin",
     "output_type": "stream",
     "text": [
      "Enter a character:  g\n"
     ]
    },
    {
     "name": "stdout",
     "output_type": "stream",
     "text": [
      "g is a consonant.\n"
     ]
    }
   ],
   "source": [
    "char = input(\"Enter a character: \").lower()\n",
    "\n",
    "if char in 'aeiou':\n",
    "    print(f\"{char} is a vowel.\")\n",
    "elif char.isalpha():\n",
    "    print(f\"{char} is a consonant.\")\n",
    "else:\n",
    "    print(\"Invalid input. Please enter an alphabet.\")\n"
   ]
  },
  {
   "cell_type": "markdown",
   "id": "8cbafcfc-8660-4eb3-a717-81d81ef819f4",
   "metadata": {},
   "source": [
    "13. Write a program that prompts the user to input a year and determine whether the \n",
    "year is a leap year or not. \n",
    "Leap Years are any year that can be evenly divided by 4. A year that is evenly divisible by \n",
    "100 is a leap year only if it is also evenly divisible by 400. Example: \n",
    "1992 Leap Year \n",
    "2000 Leap Year \n",
    "1900 NOT a Leap Year \n",
    "1995 NOT a Leap Year "
   ]
  },
  {
   "cell_type": "code",
   "execution_count": 42,
   "id": "3e7cf339-e8bc-42af-b099-d12306c4e869",
   "metadata": {},
   "outputs": [
    {
     "name": "stdin",
     "output_type": "stream",
     "text": [
      "Enter a year:  89\n"
     ]
    },
    {
     "name": "stdout",
     "output_type": "stream",
     "text": [
      "89 is NOT a Leap Year.\n"
     ]
    }
   ],
   "source": [
    "year = int(input(\"Enter a year: \"))\n",
    "\n",
    "if year % 4 == 0:\n",
    "    if year % 100 == 0:\n",
    "        if year % 400 == 0:\n",
    "            print(f\"{year} is a Leap Year.\")\n",
    "        else:\n",
    "            print(f\"{year} is NOT a Leap Year.\")\n",
    "    else:\n",
    "        print(f\"{year} is a Leap Year.\")\n",
    "else:\n",
    "    print(f\"{year} is NOT a Leap Year.\")\n"
   ]
  },
  {
   "cell_type": "markdown",
   "id": "af665c9c-1824-4de5-96aa-e1018ef67d79",
   "metadata": {},
   "source": [
    "14. Write a program that prompts the user to input number of calls and calculate the \n",
    "monthly telephone bills as per the following rule: \n",
    "Minimum Rs. 200 for up to 100 calls. \n",
    "Plus Rs. 0.60 per call for next 50 calls. \n",
    "Plus Rs. 0.50 per call for next 50 calls. \n",
    "Plus Rs. 0.40 per call for any call beyond 200 calls. "
   ]
  },
  {
   "cell_type": "code",
   "execution_count": 43,
   "id": "b92d3fa6-e21b-4be1-a572-ea15d04a5a93",
   "metadata": {},
   "outputs": [
    {
     "name": "stdin",
     "output_type": "stream",
     "text": [
      "Enter the number of calls:  45\n"
     ]
    },
    {
     "name": "stdout",
     "output_type": "stream",
     "text": [
      "Your monthly bill is Rs. 200.00\n"
     ]
    }
   ],
   "source": [
    "\n",
    "calls = int(input(\"Enter the number of calls: \"))\n",
    "\n",
    "if calls <= 100:\n",
    "    bill = 200\n",
    "elif calls <= 150:\n",
    "    bill = 200 + (calls - 100) * 0.60\n",
    "elif calls <= 200:\n",
    "    bill = 200 + 50 * 0.60 + (calls - 150) * 0.50\n",
    "else:\n",
    "    bill = 200 + 50 * 0.60 + 50 * 0.50 + (calls - 200) * 0.40\n",
    "\n",
    "print(f\"Your monthly bill is Rs. {bill:.2f}\")\n"
   ]
  },
  {
   "cell_type": "code",
   "execution_count": null,
   "id": "f1fa475d-da9b-43a4-aeae-fc4c48076223",
   "metadata": {},
   "outputs": [],
   "source": []
  }
 ],
 "metadata": {
  "kernelspec": {
   "display_name": "Python 3 (ipykernel)",
   "language": "python",
   "name": "python3"
  },
  "language_info": {
   "codemirror_mode": {
    "name": "ipython",
    "version": 3
   },
   "file_extension": ".py",
   "mimetype": "text/x-python",
   "name": "python",
   "nbconvert_exporter": "python",
   "pygments_lexer": "ipython3",
   "version": "3.12.7"
  }
 },
 "nbformat": 4,
 "nbformat_minor": 5
}
