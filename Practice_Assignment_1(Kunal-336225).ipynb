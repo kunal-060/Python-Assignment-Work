{
 "cells": [
  {
   "cell_type": "markdown",
   "metadata": {
    "id": "CUdxU51J52Jc"
   },
   "source": [
    "# Topic: print()"
   ]
  },
  {
   "cell_type": "markdown",
   "metadata": {
    "id": "O4XtVMeN52Ji"
   },
   "source": [
    "1) Using the python print function print any string value, integer value, boolean value, float value in single print command"
   ]
  },
  {
   "cell_type": "code",
   "execution_count": 1,
   "metadata": {},
   "outputs": [
    {
     "name": "stdout",
     "output_type": "stream",
     "text": [
      "Hello 12 True 12.3\n"
     ]
    }
   ],
   "source": [
    "print(\"Hello\", 12, True, 12.3)\n"
   ]
  },
  {
   "cell_type": "markdown",
   "metadata": {
    "id": "iNinlTd052Jr"
   },
   "source": [
    "2) Using the python print function print hyphon(-) separated any string value, integer value, boolean value, float value in single print command"
   ]
  },
  {
   "cell_type": "code",
   "execution_count": 3,
   "metadata": {},
   "outputs": [
    {
     "name": "stdout",
     "output_type": "stream",
     "text": [
      "Hello-12-True-12.3\n"
     ]
    }
   ],
   "source": [
    "print(\"Hello\", 12, True, 12.3, sep=\"-\")"
   ]
  },
  {
   "cell_type": "markdown",
   "metadata": {
    "id": "4fNVS99O52Jt"
   },
   "source": [
    "3) Using the python print function print any string value, integer value, boolean value, float value in separate print command.\n",
    "But every value must be space separated and in single line"
   ]
  },
  {
   "cell_type": "code",
   "execution_count": 5,
   "metadata": {},
   "outputs": [
    {
     "name": "stdout",
     "output_type": "stream",
     "text": [
      "Hello 12 False 56.78\n"
     ]
    }
   ],
   "source": [
    "print(\"Hello\", end=\" \")\n",
    "print(12, end=\" \")\n",
    "print(False, end=\" \")\n",
    "print(56.78)"
   ]
  },
  {
   "cell_type": "markdown",
   "metadata": {
    "id": "akEUFstT52Jv"
   },
   "source": [
    "4) Can a python print function take no value to print???\n"
   ]
  },
  {
   "cell_type": "code",
   "execution_count": 7,
   "metadata": {},
   "outputs": [
    {
     "name": "stdout",
     "output_type": "stream",
     "text": [
      "\n"
     ]
    }
   ],
   "source": [
    "print()  # Outputs an empty line"
   ]
  },
  {
   "cell_type": "markdown",
   "metadata": {
    "id": "vFPOFKW_52Jx"
   },
   "source": [
    "# TOPIC :Variables in Python Operators"
   ]
  },
  {
   "cell_type": "markdown",
   "metadata": {
    "id": "AzBzVODl52Jy"
   },
   "source": [
    "5) One of my friends name is Mr. Ahmed. He is 30 years old.  He is a lawer by profession. He has done his bachelors in law in the year 2005. He is working with a reputable law firm 'The Himalya Associates' in Karachi since 2015.\n",
    "He is a handsome lawer with height of 5.10 feets and weight 70600g. His monthly income is Rs. 200k PKR.\n",
    "\n",
    "Note: Create variables from above text and also assign values from the text.  "
   ]
  },
  {
   "cell_type": "code",
   "execution_count": 9,
   "metadata": {},
   "outputs": [
    {
     "name": "stdout",
     "output_type": "stream",
     "text": [
      "Mr. Ahmed 30 Lawyer 2005 The Himalaya Associates Karachi 2015 5.1 70600 200000\n"
     ]
    }
   ],
   "source": [
    "name = \"Mr. Ahmed\"\n",
    "age = 30\n",
    "profession = \"Lawyer\"\n",
    "degree_year = 2005\n",
    "firm = \"The Himalaya Associates\"\n",
    "location = \"Karachi\"\n",
    "start_year = 2015\n",
    "height = 5.10  # in feet\n",
    "weight_grams = 70600  # in grams\n",
    "income_pkr = 200_000\n",
    "\n",
    "# Print variables for verification\n",
    "print(name, age, profession, degree_year, firm, location, start_year, height, weight_grams, income_pkr)"
   ]
  },
  {
   "cell_type": "markdown",
   "metadata": {
    "id": "Uaf--v5S52J0"
   },
   "source": [
    "6)How many years has been to Mr. Ahmed after his bachelors degree? Create a variable that hold current year value and then subtract it from his passout year"
   ]
  },
  {
   "cell_type": "code",
   "execution_count": 11,
   "metadata": {},
   "outputs": [
    {
     "name": "stdout",
     "output_type": "stream",
     "text": [
      "Years since graduation: 19\n"
     ]
    }
   ],
   "source": [
    "current_year = 2024\n",
    "years_since_graduation = current_year - degree_year\n",
    "print(\"Years since graduation:\", years_since_graduation)"
   ]
  },
  {
   "cell_type": "markdown",
   "metadata": {
    "id": "SAQtVyvD52J1"
   },
   "source": [
    "7)How many years has Mr. Ahmed been working with law firm 'The Himalya Associates'. Create necesary variables and print the correct number of years in working in the firm"
   ]
  },
  {
   "cell_type": "code",
   "execution_count": 13,
   "metadata": {},
   "outputs": [
    {
     "name": "stdout",
     "output_type": "stream",
     "text": [
      "Years in firm: 9\n"
     ]
    }
   ],
   "source": [
    "years_in_firm = current_year - start_year\n",
    "print(\"Years in firm:\", years_in_firm)"
   ]
  },
  {
   "cell_type": "markdown",
   "metadata": {
    "id": "Gnk1kIUj52J3"
   },
   "source": [
    "8)Convert the monthly income of Mr. Ahmed in dollars.  Create necesary variables and print the income in dollars."
   ]
  },
  {
   "cell_type": "code",
   "execution_count": 15,
   "metadata": {},
   "outputs": [
    {
     "name": "stdout",
     "output_type": "stream",
     "text": [
      "Income in USD: 666.6666666666666\n"
     ]
    }
   ],
   "source": [
    "usd_conversion_rate = 300\n",
    "income_usd = income_pkr / usd_conversion_rate\n",
    "print(\"Income in USD:\", income_usd)"
   ]
  },
  {
   "cell_type": "markdown",
   "metadata": {
    "id": "Adx4oblF52J4"
   },
   "source": [
    "9)Check if the income in dollars is a float or integer value. if it is float, re-write the code so that income gets converted in integer. print the income in integer type value"
   ]
  },
  {
   "cell_type": "code",
   "execution_count": 19,
   "metadata": {},
   "outputs": [
    {
     "name": "stdout",
     "output_type": "stream",
     "text": [
      "Income in USD (integer): 666\n"
     ]
    }
   ],
   "source": [
    "income_usd_as_integer = int(income_usd)\n",
    "print(\"Income in USD (integer):\", income_usd_as_integer)"
   ]
  },
  {
   "cell_type": "markdown",
   "metadata": {
    "id": "NcYepWgZ52J5"
   },
   "source": [
    "10)Print the type of Mr. Ahmed's weight. Convert the weight of Mr. Ahmed in kg so that weight must be a integer value."
   ]
  },
  {
   "cell_type": "code",
   "execution_count": 21,
   "metadata": {},
   "outputs": [
    {
     "name": "stdout",
     "output_type": "stream",
     "text": [
      "Weight in kilograms: 70\n"
     ]
    }
   ],
   "source": [
    "weight_kg = int(weight_grams / 1000)\n",
    "print(\"Weight in kilograms:\", weight_kg)"
   ]
  },
  {
   "cell_type": "markdown",
   "metadata": {
    "id": "05FU1XHw52J7"
   },
   "source": [
    "11)print the year of birth of Mr. Ahmed."
   ]
  },
  {
   "cell_type": "code",
   "execution_count": 25,
   "metadata": {
    "id": "paq_3Kg152J8"
   },
   "outputs": [
    {
     "name": "stdout",
     "output_type": "stream",
     "text": [
      "Year of birth: 1994\n"
     ]
    }
   ],
   "source": [
    "#type your code here\n",
    "year_of_birth = current_year - age\n",
    "print(\"Year of birth:\", year_of_birth)"
   ]
  },
  {
   "cell_type": "markdown",
   "metadata": {
    "id": "eWySSgh552J8"
   },
   "source": [
    "12)Can Rs. 100 be divided equally among 6 students?\n",
    "HINT: % operator (modulo)"
   ]
  },
  {
   "cell_type": "code",
   "execution_count": 29,
   "metadata": {
    "id": "RYc0Ks7g52J-",
    "outputId": "0e2425ca-fbed-4c24-b659-e52ef2d0674e"
   },
   "outputs": [
    {
     "name": "stdout",
     "output_type": "stream",
     "text": [
      "Remainder when Rs. 100 is divided among 6 students: 4\n"
     ]
    }
   ],
   "source": [
    "10%2\n",
    "# 10 is completely divisible by2\n",
    "# 10 is multiple of 2\n",
    "# 2 is a factor of 10\n",
    "# 10 comes in table of 2\n",
    "modulo_check = 100 % 6\n",
    "print(\"Remainder when Rs. 100 is divided among 6 students:\", modulo_check)"
   ]
  },
  {
   "cell_type": "markdown",
   "metadata": {
    "id": "S2nqgbLV52J_"
   },
   "source": [
    "                       Saylani Mass IT \n",
    "             Name   : kUNAL\n",
    "             Course : AI and DS\n",
    "             Days   : Tuesday and Thursday\n",
    "             ID     : AI - 332969\n",
    "             \n",
    "             "
   ]
  },
  {
   "cell_type": "code",
   "execution_count": 2,
   "metadata": {
    "id": "X3ncSwJt52KA"
   },
   "outputs": [
    {
     "name": "stdout",
     "output_type": "stream",
     "text": [
      "\n",
      "                       Saylani Mass IT \n",
      "             Name   : kUNAL\n",
      "             Course : AI and DS\n",
      "             Days   : Tuesday and Thursday\n",
      "             ID     : AI - 332969 \n",
      "\n"
     ]
    }
   ],
   "source": [
    "print(\"\"\"\n",
    "                       Saylani Mass IT \n",
    "             Name   : kUNAL\n",
    "             Course : AI and DS\n",
    "             Days   : Tuesday and Thursday\n",
    "             ID     : AI - 332969 \n",
    "\"\"\")\n"
   ]
  },
  {
   "cell_type": "code",
   "execution_count": null,
   "metadata": {},
   "outputs": [],
   "source": []
  }
 ],
 "metadata": {
  "colab": {
   "provenance": []
  },
  "kernelspec": {
   "display_name": "Python 3 (ipykernel)",
   "language": "python",
   "name": "python3"
  },
  "language_info": {
   "codemirror_mode": {
    "name": "ipython",
    "version": 3
   },
   "file_extension": ".py",
   "mimetype": "text/x-python",
   "name": "python",
   "nbconvert_exporter": "python",
   "pygments_lexer": "ipython3",
   "version": "3.12.7"
  }
 },
 "nbformat": 4,
 "nbformat_minor": 4
}
